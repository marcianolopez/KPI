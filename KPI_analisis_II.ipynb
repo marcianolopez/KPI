{
 "cells": [
  {
   "cell_type": "code",
   "execution_count": 57,
   "metadata": {},
   "outputs": [],
   "source": [
    "import wbgapi as wb\n",
    "import pandas as pd\n",
    "import plotly.express as px\n",
    "import plotly.graph_objects as go\n",
    "\n",
    "\n",
    "\n",
    "\n"
   ]
  },
  {
   "cell_type": "code",
   "execution_count": 69,
   "metadata": {},
   "outputs": [],
   "source": [
    "kpi_dict = {'FP.CPI.TOTL.ZG':'Forest Area','NY.GDP.PCAP.CD':'Inflation','SP.POP.TOTL.FE.ZS':'GDP per capita',\n",
    "'AG.LND.FRST.ZS':'Unemployment','SL.UEM.TOTL.NE.ZS':'Population Growth','SP.POP.GROW':'Population female prct'}\n"
   ]
  },
  {
   "cell_type": "code",
   "execution_count": 58,
   "metadata": {},
   "outputs": [
    {
     "data": {
      "text/html": [
       "<div class=\"wbgapi\"><table>\n",
       "<thead>\n",
       "<tr><th>id               </th><th>value                                                           </th></tr>\n",
       "</thead>\n",
       "<tbody>\n",
       "<tr><td>AG.LND.FRST.ZS   </td><td>Forest area (% of land area)                                    </td></tr>\n",
       "<tr><td>NY.GDP.PCAP.CD   </td><td>GDP per capita (current US$)                                    </td></tr>\n",
       "<tr><td>FP.CPI.TOTL.ZG   </td><td>Inflation, consumer prices (annual %)                           </td></tr>\n",
       "<tr><td>SP.POP.GROW      </td><td>Population growth (annual %)                                    </td></tr>\n",
       "<tr><td>SP.POP.TOTL.FE.ZS</td><td>Population, female (% of total population)                      </td></tr>\n",
       "<tr><td>SL.UEM.TOTL.NE.ZS</td><td>Unemployment, total (% of total labor force) (national estimate)</td></tr>\n",
       "<tr><td>                 </td><td>6 elements                                                      </td></tr>\n",
       "</tbody>\n",
       "</table></div>"
      ],
      "text/plain": [
       "id                 value\n",
       "-----------------  ----------------------------------------------------------------\n",
       "AG.LND.FRST.ZS     Forest area (% of land area)\n",
       "NY.GDP.PCAP.CD     GDP per capita (current US$)\n",
       "FP.CPI.TOTL.ZG     Inflation, consumer prices (annual %)\n",
       "SP.POP.GROW        Population growth (annual %)\n",
       "SP.POP.TOTL.FE.ZS  Population, female (% of total population)\n",
       "SL.UEM.TOTL.NE.ZS  Unemployment, total (% of total labor force) (national estimate)\n",
       "                   6 elements"
      ]
     },
     "execution_count": 58,
     "metadata": {},
     "output_type": "execute_result"
    }
   ],
   "source": [
    "wb.series.info(kpi_dict)"
   ]
  },
  {
   "cell_type": "code",
   "execution_count": 59,
   "metadata": {},
   "outputs": [
    {
     "data": {
      "text/html": [
       "<div class=\"wbgapi\"><table>\n",
       "<thead>\n",
       "<tr><th>id                     </th><th>value                                                                                                                          </th></tr>\n",
       "</thead>\n",
       "<tbody>\n",
       "<tr><td>EN.ATM.PM25.MC.T1.ZS   </td><td>PM2.5 pollution, population exposed to levels exceeding WHO Interim Target-1 value (% of total)                                </td></tr>\n",
       "<tr><td>EN.ATM.PM25.MC.T2.ZS   </td><td>PM2.5 pollution, population exposed to levels exceeding WHO Interim Target-2 value (% of total)                                </td></tr>\n",
       "<tr><td>EN.ATM.PM25.MC.T3.ZS   </td><td>PM2.5 pollution, population exposed to levels exceeding WHO Interim Target-3 value (% of total)                                </td></tr>\n",
       "<tr><td>EN.ATM.PM25.MC.ZS      </td><td>PM2.5 air pollution, population exposed to levels exceeding WHO guideline value (% of total)                                   </td></tr>\n",
       "<tr><td>EN.POP.DNST            </td><td>Population density (people per sq. km of land area)                                                                            </td></tr>\n",
       "<tr><td>EN.POP.EL5M.RU.ZS      </td><td>Rural population living in areas where elevation is below 5 meters (% of total population)                                     </td></tr>\n",
       "<tr><td>EN.POP.EL5M.UR.ZS      </td><td>Urban population living in areas where elevation is below 5 meters (% of total population)                                     </td></tr>\n",
       "<tr><td>EN.POP.EL5M.ZS         </td><td>Population living in areas where elevation is below 5 meters (% of total population)                                           </td></tr>\n",
       "<tr><td>EN.POP.SLUM.UR.ZS      </td><td>Population living in slums (% of urban population)                                                                             </td></tr>\n",
       "<tr><td>EN.URB.LCTY            </td><td>Population in largest city                                                                                                     </td></tr>\n",
       "<tr><td>EN.URB.LCTY.UR.ZS      </td><td>Population in the largest city (% of urban population)                                                                         </td></tr>\n",
       "<tr><td>EN.URB.MCTY            </td><td>Population in urban agglomerations of more than 1 million                                                                      </td></tr>\n",
       "<tr><td>EN.URB.MCTY.TL.ZS      </td><td>Population in urban agglomerations of more than 1 million (% of total population)                                              </td></tr>\n",
       "<tr><td>SE.PRM.CUAT.FE.ZS      </td><td>Educational attainment, at least completed primary, population 25+ years, female (%) (cumulative)                              </td></tr>\n",
       "<tr><td>SE.PRM.CUAT.MA.ZS      </td><td>Educational attainment, at least completed primary, population 25+ years, male (%) (cumulative)                                </td></tr>\n",
       "<tr><td>SE.PRM.CUAT.ZS         </td><td>Educational attainment, at least completed primary, population 25+ years, total (%) (cumulative)                               </td></tr>\n",
       "<tr><td>SE.SEC.CUAT.LO.FE.ZS   </td><td>Educational attainment, at least completed lower secondary, population 25+, female (%) (cumulative)                            </td></tr>\n",
       "<tr><td>SE.SEC.CUAT.LO.MA.ZS   </td><td>Educational attainment, at least completed lower secondary, population 25+, male (%) (cumulative)                              </td></tr>\n",
       "<tr><td>SE.SEC.CUAT.LO.ZS      </td><td>Educational attainment, at least completed lower secondary, population 25+, total (%) (cumulative)                             </td></tr>\n",
       "<tr><td>SE.SEC.CUAT.PO.FE.ZS   </td><td>Educational attainment, at least completed post-secondary, population 25+, female (%) (cumulative)                             </td></tr>\n",
       "<tr><td>SE.SEC.CUAT.PO.MA.ZS   </td><td>Educational attainment, at least completed post-secondary, population 25+, male (%) (cumulative)                               </td></tr>\n",
       "<tr><td>SE.SEC.CUAT.PO.ZS      </td><td>Educational attainment, at least completed post-secondary, population 25+, total (%) (cumulative)                              </td></tr>\n",
       "<tr><td>SE.SEC.CUAT.UP.FE.ZS   </td><td>Educational attainment, at least completed upper secondary, population 25+, female (%) (cumulative)                            </td></tr>\n",
       "<tr><td>SE.SEC.CUAT.UP.MA.ZS   </td><td>Educational attainment, at least completed upper secondary, population 25+, male (%) (cumulative)                              </td></tr>\n",
       "<tr><td>SE.SEC.CUAT.UP.ZS      </td><td>Educational attainment, at least completed upper secondary, population 25+, total (%) (cumulative)                             </td></tr>\n",
       "<tr><td>SE.TER.CUAT.BA.FE.ZS   </td><td>Educational attainment, at least Bachelor&#x27;s or equivalent, population 25+, female (%) (cumulative)                             </td></tr>\n",
       "<tr><td>SE.TER.CUAT.BA.MA.ZS   </td><td>Educational attainment, at least Bachelor&#x27;s or equivalent, population 25+, male (%) (cumulative)                               </td></tr>\n",
       "<tr><td>SE.TER.CUAT.BA.ZS      </td><td>Educational attainment, at least Bachelor&#x27;s or equivalent, population 25+, total (%) (cumulative)                              </td></tr>\n",
       "<tr><td>SE.TER.CUAT.DO.FE.ZS   </td><td>Educational attainment, Doctoral or equivalent, population 25+, female (%) (cumulative)                                        </td></tr>\n",
       "<tr><td>SE.TER.CUAT.DO.MA.ZS   </td><td>Educational attainment, Doctoral or equivalent, population 25+, male (%) (cumulative)                                          </td></tr>\n",
       "<tr><td>SE.TER.CUAT.DO.ZS      </td><td>Educational attainment, Doctoral or equivalent, population 25+, total (%) (cumulative)                                         </td></tr>\n",
       "<tr><td>SE.TER.CUAT.MS.FE.ZS   </td><td>Educational attainment, at least Master&#x27;s or equivalent, population 25+, female (%) (cumulative)                               </td></tr>\n",
       "<tr><td>SE.TER.CUAT.MS.MA.ZS   </td><td>Educational attainment, at least Master&#x27;s or equivalent, population 25+, male (%) (cumulative)                                 </td></tr>\n",
       "<tr><td>SE.TER.CUAT.MS.ZS      </td><td>Educational attainment, at least Master&#x27;s or equivalent, population 25+, total (%) (cumulative)                                </td></tr>\n",
       "<tr><td>SE.TER.CUAT.ST.FE.ZS   </td><td>Educational attainment, at least completed short-cycle tertiary, population 25+, female (%) (cumulative)                       </td></tr>\n",
       "<tr><td>SE.TER.CUAT.ST.MA.ZS   </td><td>Educational attainment, at least completed short-cycle tertiary, population 25+, male (%) (cumulative)                         </td></tr>\n",
       "<tr><td>SE.TER.CUAT.ST.ZS      </td><td>Educational attainment, at least completed short-cycle tertiary, population 25+, total (%) (cumulative)                        </td></tr>\n",
       "<tr><td>SH.CON.1524.FE.ZS      </td><td>Condom use, population ages 15-24, female (% of females ages 15-24)                                                            </td></tr>\n",
       "<tr><td>SH.CON.1524.MA.ZS      </td><td>Condom use, population ages 15-24, male (% of males ages 15-24)                                                                </td></tr>\n",
       "<tr><td>SH.DYN.AIDS.FE.ZS      </td><td>Women&#x27;s share of population ages 15+ living with HIV (%)                                                                       </td></tr>\n",
       "<tr><td>SH.UHC.NOP1.ZS         </td><td>Proportion of population pushed below the $1.90 ($ 2011 PPP) poverty line by out-of-pocket health care expenditure (%)         </td></tr>\n",
       "<tr><td>SH.UHC.NOP2.ZS         </td><td>Proportion of population pushed below the $3.20 ($ 2011 PPP) poverty line by out-of-pocket health care expenditure (%)         </td></tr>\n",
       "<tr><td>SH.UHC.OOPC.10.ZS      </td><td>Proportion of population spending more than 10% of household consumption or income on out-of-pocket health care expenditure (%)</td></tr>\n",
       "<tr><td>SH.UHC.OOPC.25.ZS      </td><td>Proportion of population spending more than 25% of household consumption or income on out-of-pocket health care expenditure (%)</td></tr>\n",
       "<tr><td>SI.POV.MDIM.17.XQ      </td><td>Multidimensional poverty index, children (population ages 0-17) (scale 0-1)                                                    </td></tr>\n",
       "<tr><td>SI.SPR.PC40            </td><td>Survey mean consumption or income per capita, bottom 40% of population (2017 PPP $ per day)                                    </td></tr>\n",
       "<tr><td>SI.SPR.PC40.ZG         </td><td>Annualized average growth rate in per capita real survey mean consumption or income, bottom 40% of population (%)              </td></tr>\n",
       "<tr><td>SI.SPR.PCAP            </td><td>Survey mean consumption or income per capita, total population (2017 PPP $ per day)                                            </td></tr>\n",
       "<tr><td>SI.SPR.PCAP.ZG         </td><td>Annualized average growth rate in per capita real survey mean consumption or income, total population (%)                      </td></tr>\n",
       "<tr><td>SL.EMP.1524.SP.FE.NE.ZS</td><td>Employment to population ratio, ages 15-24, female (%) (national estimate)                                                     </td></tr>\n",
       "<tr><td>SL.EMP.1524.SP.FE.ZS   </td><td>Employment to population ratio, ages 15-24, female (%) (modeled ILO estimate)                                                  </td></tr>\n",
       "<tr><td>SL.EMP.1524.SP.MA.NE.ZS</td><td>Employment to population ratio, ages 15-24, male (%) (national estimate)                                                       </td></tr>\n",
       "<tr><td>SL.EMP.1524.SP.MA.ZS   </td><td>Employment to population ratio, ages 15-24, male (%) (modeled ILO estimate)                                                    </td></tr>\n",
       "<tr><td>SL.EMP.1524.SP.NE.ZS   </td><td>Employment to population ratio, ages 15-24, total (%) (national estimate)                                                      </td></tr>\n",
       "<tr><td>SL.EMP.1524.SP.ZS      </td><td>Employment to population ratio, ages 15-24, total (%) (modeled ILO estimate)                                                   </td></tr>\n",
       "<tr><td>SL.EMP.TOTL.SP.FE.NE.ZS</td><td>Employment to population ratio, 15+, female (%) (national estimate)                                                            </td></tr>\n",
       "<tr><td>SL.EMP.TOTL.SP.FE.ZS   </td><td>Employment to population ratio, 15+, female (%) (modeled ILO estimate)                                                         </td></tr>\n",
       "<tr><td>SL.EMP.TOTL.SP.MA.NE.ZS</td><td>Employment to population ratio, 15+, male (%) (national estimate)                                                              </td></tr>\n",
       "<tr><td>SL.EMP.TOTL.SP.MA.ZS   </td><td>Employment to population ratio, 15+, male (%) (modeled ILO estimate)                                                           </td></tr>\n",
       "<tr><td>SL.EMP.TOTL.SP.NE.ZS   </td><td>Employment to population ratio, 15+, total (%) (national estimate)                                                             </td></tr>\n",
       "<tr><td>SL.EMP.TOTL.SP.ZS      </td><td>Employment to population ratio, 15+, total (%) (modeled ILO estimate)                                                          </td></tr>\n",
       "<tr><td>SL.TLF.ACTI.FE.ZS      </td><td>Labor force participation rate, female (% of female population ages 15-64) (modeled ILO estimate)                              </td></tr>\n",
       "<tr><td>SL.TLF.ACTI.MA.ZS      </td><td>Labor force participation rate, male (% of male population ages 15-64) (modeled ILO estimate)                                  </td></tr>\n",
       "<tr><td>SL.TLF.ACTI.ZS         </td><td>Labor force participation rate, total (% of total population ages 15-64) (modeled ILO estimate)                                </td></tr>\n",
       "<tr><td>SL.TLF.CACT.FE.NE.ZS   </td><td>Labor force participation rate, female (% of female population ages 15+) (national estimate)                                   </td></tr>\n",
       "<tr><td>SL.TLF.CACT.FE.ZS      </td><td>Labor force participation rate, female (% of female population ages 15+) (modeled ILO estimate)                                </td></tr>\n",
       "<tr><td>SL.TLF.CACT.MA.NE.ZS   </td><td>Labor force participation rate, male (% of male population ages 15+) (national estimate)                                       </td></tr>\n",
       "<tr><td>SL.TLF.CACT.MA.ZS      </td><td>Labor force participation rate, male (% of male population ages 15+) (modeled ILO estimate)                                    </td></tr>\n",
       "<tr><td>SL.TLF.CACT.NE.ZS      </td><td>Labor force participation rate, total (% of total population ages 15+) (national estimate)                                     </td></tr>\n",
       "<tr><td>SL.TLF.CACT.ZS         </td><td>Labor force participation rate, total (% of total population ages 15+) (modeled ILO estimate)                                  </td></tr>\n",
       "<tr><td>SM.POP.REFG            </td><td>Refugee population by country or territory of asylum                                                                           </td></tr>\n",
       "<tr><td>SM.POP.REFG.OR         </td><td>Refugee population by country or territory of origin                                                                           </td></tr>\n",
       "<tr><td>SN.ITK.MSFI.ZS         </td><td>Prevalence of moderate or severe food insecurity in the population (%)                                                         </td></tr>\n",
       "<tr><td>SN.ITK.SVFI.ZS         </td><td>Prevalence of severe food insecurity in the population (%)                                                                     </td></tr>\n",
       "<tr><td>SP.POP.0004.FE.5Y      </td><td>Population ages 00-04, female (% of female population)                                                                         </td></tr>\n",
       "<tr><td>SP.POP.0004.MA.5Y      </td><td>Population ages 00-04, male (% of male population)                                                                             </td></tr>\n",
       "<tr><td>SP.POP.0014.FE.IN      </td><td>Population ages 0-14, female                                                                                                   </td></tr>\n",
       "<tr><td>SP.POP.0014.FE.ZS      </td><td>Population ages 0-14, female (% of female population)                                                                          </td></tr>\n",
       "<tr><td>SP.POP.0014.MA.IN      </td><td>Population ages 0-14, male                                                                                                     </td></tr>\n",
       "<tr><td>SP.POP.0014.MA.ZS      </td><td>Population ages 0-14, male (% of male population)                                                                              </td></tr>\n",
       "<tr><td>SP.POP.0014.TO         </td><td>Population ages 0-14, total                                                                                                    </td></tr>\n",
       "<tr><td>SP.POP.0014.TO.ZS      </td><td>Population ages 0-14 (% of total population)                                                                                   </td></tr>\n",
       "<tr><td>SP.POP.0509.FE.5Y      </td><td>Population ages 05-09, female (% of female population)                                                                         </td></tr>\n",
       "<tr><td>SP.POP.0509.MA.5Y      </td><td>Population ages 05-09, male (% of male population)                                                                             </td></tr>\n",
       "<tr><td>SP.POP.1014.FE.5Y      </td><td>Population ages 10-14, female (% of female population)                                                                         </td></tr>\n",
       "<tr><td>SP.POP.1014.MA.5Y      </td><td>Population ages 10-14, male (% of male population)                                                                             </td></tr>\n",
       "<tr><td>SP.POP.1519.FE.5Y      </td><td>Population ages 15-19, female (% of female population)                                                                         </td></tr>\n",
       "<tr><td>SP.POP.1519.MA.5Y      </td><td>Population ages 15-19, male (% of male population)                                                                             </td></tr>\n",
       "<tr><td>SP.POP.1564.FE.IN      </td><td>Population ages 15-64, female                                                                                                  </td></tr>\n",
       "<tr><td>SP.POP.1564.FE.ZS      </td><td>Population ages 15-64, female (% of female population)                                                                         </td></tr>\n",
       "<tr><td>SP.POP.1564.MA.IN      </td><td>Population ages 15-64, male                                                                                                    </td></tr>\n",
       "<tr><td>SP.POP.1564.MA.ZS      </td><td>Population ages 15-64, male (% of male population)                                                                             </td></tr>\n",
       "<tr><td>SP.POP.1564.TO         </td><td>Population ages 15-64, total                                                                                                   </td></tr>\n",
       "<tr><td>SP.POP.1564.TO.ZS      </td><td>Population ages 15-64 (% of total population)                                                                                  </td></tr>\n",
       "<tr><td>SP.POP.2024.FE.5Y      </td><td>Population ages 20-24, female (% of female population)                                                                         </td></tr>\n",
       "<tr><td>SP.POP.2024.MA.5Y      </td><td>Population ages 20-24, male (% of male population)                                                                             </td></tr>\n",
       "<tr><td>SP.POP.2529.FE.5Y      </td><td>Population ages 25-29, female (% of female population)                                                                         </td></tr>\n",
       "<tr><td>SP.POP.2529.MA.5Y      </td><td>Population ages 25-29, male (% of male population)                                                                             </td></tr>\n",
       "<tr><td>SP.POP.3034.FE.5Y      </td><td>Population ages 30-34, female (% of female population)                                                                         </td></tr>\n",
       "<tr><td>SP.POP.3034.MA.5Y      </td><td>Population ages 30-34, male (% of male population)                                                                             </td></tr>\n",
       "<tr><td>SP.POP.3539.FE.5Y      </td><td>Population ages 35-39, female (% of female population)                                                                         </td></tr>\n",
       "<tr><td>SP.POP.3539.MA.5Y      </td><td>Population ages 35-39, male (% of male population)                                                                             </td></tr>\n",
       "<tr><td>SP.POP.4044.FE.5Y      </td><td>Population ages 40-44, female (% of female population)                                                                         </td></tr>\n",
       "<tr><td>SP.POP.4044.MA.5Y      </td><td>Population ages 40-44, male (% of male population)                                                                             </td></tr>\n",
       "<tr><td>SP.POP.4549.FE.5Y      </td><td>Population ages 45-49, female (% of female population)                                                                         </td></tr>\n",
       "<tr><td>SP.POP.4549.MA.5Y      </td><td>Population ages 45-49, male (% of male population)                                                                             </td></tr>\n",
       "<tr><td>SP.POP.5054.FE.5Y      </td><td>Population ages 50-54, female (% of female population)                                                                         </td></tr>\n",
       "<tr><td>SP.POP.5054.MA.5Y      </td><td>Population ages 50-54, male (% of male population)                                                                             </td></tr>\n",
       "<tr><td>SP.POP.5559.FE.5Y      </td><td>Population ages 55-59, female (% of female population)                                                                         </td></tr>\n",
       "<tr><td>SP.POP.5559.MA.5Y      </td><td>Population ages 55-59, male (% of male population)                                                                             </td></tr>\n",
       "<tr><td>SP.POP.6064.FE.5Y      </td><td>Population ages 60-64, female (% of female population)                                                                         </td></tr>\n",
       "<tr><td>SP.POP.6064.MA.5Y      </td><td>Population ages 60-64, male (% of male population)                                                                             </td></tr>\n",
       "<tr><td>SP.POP.6569.FE.5Y      </td><td>Population ages 65-69, female (% of female population)                                                                         </td></tr>\n",
       "<tr><td>SP.POP.6569.MA.5Y      </td><td>Population ages 65-69, male (% of male population)                                                                             </td></tr>\n",
       "<tr><td>SP.POP.65UP.FE.IN      </td><td>Population ages 65 and above, female                                                                                           </td></tr>\n",
       "<tr><td>SP.POP.65UP.FE.ZS      </td><td>Population ages 65 and above, female (% of female population)                                                                  </td></tr>\n",
       "<tr><td>SP.POP.65UP.MA.IN      </td><td>Population ages 65 and above, male                                                                                             </td></tr>\n",
       "<tr><td>SP.POP.65UP.MA.ZS      </td><td>Population ages 65 and above, male (% of male population)                                                                      </td></tr>\n",
       "<tr><td>SP.POP.65UP.TO         </td><td>Population ages 65 and above, total                                                                                            </td></tr>\n",
       "<tr><td>SP.POP.65UP.TO.ZS      </td><td>Population ages 65 and above (% of total population)                                                                           </td></tr>\n",
       "<tr><td>SP.POP.7074.FE.5Y      </td><td>Population ages 70-74, female (% of female population)                                                                         </td></tr>\n",
       "<tr><td>SP.POP.7074.MA.5Y      </td><td>Population ages 70-74, male (% of male population)                                                                             </td></tr>\n",
       "<tr><td>SP.POP.7579.FE.5Y      </td><td>Population ages 75-79, female (% of female population)                                                                         </td></tr>\n",
       "<tr><td>SP.POP.7579.MA.5Y      </td><td>Population ages 75-79, male (% of male population)                                                                             </td></tr>\n",
       "<tr><td>SP.POP.80UP.FE.5Y      </td><td>Population ages 80 and above, female (% of female population)                                                                  </td></tr>\n",
       "<tr><td>SP.POP.80UP.MA.5Y      </td><td>Population ages 80 and above, male (% of male population)                                                                      </td></tr>\n",
       "<tr><td>SP.POP.GROW            </td><td>Population growth (annual %)                                                                                                   </td></tr>\n",
       "<tr><td>SP.POP.TOTL            </td><td>Population, total                                                                                                              </td></tr>\n",
       "<tr><td>SP.POP.TOTL.FE.IN      </td><td>Population, female                                                                                                             </td></tr>\n",
       "<tr><td>SP.POP.TOTL.FE.ZS      </td><td>Population, female (% of total population)                                                                                     </td></tr>\n",
       "<tr><td>SP.POP.TOTL.MA.IN      </td><td>Population, male                                                                                                               </td></tr>\n",
       "<tr><td>SP.POP.TOTL.MA.ZS      </td><td>Population, male (% of total population)                                                                                       </td></tr>\n",
       "<tr><td>SP.RUR.TOTL            </td><td>Rural population                                                                                                               </td></tr>\n",
       "<tr><td>SP.RUR.TOTL.ZG         </td><td>Rural population growth (annual %)                                                                                             </td></tr>\n",
       "<tr><td>SP.RUR.TOTL.ZS         </td><td>Rural population (% of total population)                                                                                       </td></tr>\n",
       "<tr><td>SP.URB.GROW            </td><td>Urban population growth (annual %)                                                                                             </td></tr>\n",
       "<tr><td>SP.URB.TOTL            </td><td>Urban population                                                                                                               </td></tr>\n",
       "<tr><td>SP.URB.TOTL.IN.ZS      </td><td>Urban population (% of total population)                                                                                       </td></tr>\n",
       "<tr><td>                       </td><td>138 elements                                                                                                                   </td></tr>\n",
       "</tbody>\n",
       "</table></div>"
      ],
      "text/plain": [
       "id                       value\n",
       "-----------------------  -------------------------------------------------------------------------------------------------------------------------------\n",
       "EN.ATM.PM25.MC.T1.ZS     PM2.5 pollution, population exposed to levels exceeding WHO Interim Target-1 value (% of total)\n",
       "EN.ATM.PM25.MC.T2.ZS     PM2.5 pollution, population exposed to levels exceeding WHO Interim Target-2 value (% of total)\n",
       "EN.ATM.PM25.MC.T3.ZS     PM2.5 pollution, population exposed to levels exceeding WHO Interim Target-3 value (% of total)\n",
       "EN.ATM.PM25.MC.ZS        PM2.5 air pollution, population exposed to levels exceeding WHO guideline value (% of total)\n",
       "EN.POP.DNST              Population density (people per sq. km of land area)\n",
       "EN.POP.EL5M.RU.ZS        Rural population living in areas where elevation is below 5 meters (% of total population)\n",
       "EN.POP.EL5M.UR.ZS        Urban population living in areas where elevation is below 5 meters (% of total population)\n",
       "EN.POP.EL5M.ZS           Population living in areas where elevation is below 5 meters (% of total population)\n",
       "EN.POP.SLUM.UR.ZS        Population living in slums (% of urban population)\n",
       "EN.URB.LCTY              Population in largest city\n",
       "EN.URB.LCTY.UR.ZS        Population in the largest city (% of urban population)\n",
       "EN.URB.MCTY              Population in urban agglomerations of more than 1 million\n",
       "EN.URB.MCTY.TL.ZS        Population in urban agglomerations of more than 1 million (% of total population)\n",
       "SE.PRM.CUAT.FE.ZS        Educational attainment, at least completed primary, population 25+ years, female (%) (cumulative)\n",
       "SE.PRM.CUAT.MA.ZS        Educational attainment, at least completed primary, population 25+ years, male (%) (cumulative)\n",
       "SE.PRM.CUAT.ZS           Educational attainment, at least completed primary, population 25+ years, total (%) (cumulative)\n",
       "SE.SEC.CUAT.LO.FE.ZS     Educational attainment, at least completed lower secondary, population 25+, female (%) (cumulative)\n",
       "SE.SEC.CUAT.LO.MA.ZS     Educational attainment, at least completed lower secondary, population 25+, male (%) (cumulative)\n",
       "SE.SEC.CUAT.LO.ZS        Educational attainment, at least completed lower secondary, population 25+, total (%) (cumulative)\n",
       "SE.SEC.CUAT.PO.FE.ZS     Educational attainment, at least completed post-secondary, population 25+, female (%) (cumulative)\n",
       "SE.SEC.CUAT.PO.MA.ZS     Educational attainment, at least completed post-secondary, population 25+, male (%) (cumulative)\n",
       "SE.SEC.CUAT.PO.ZS        Educational attainment, at least completed post-secondary, population 25+, total (%) (cumulative)\n",
       "SE.SEC.CUAT.UP.FE.ZS     Educational attainment, at least completed upper secondary, population 25+, female (%) (cumulative)\n",
       "SE.SEC.CUAT.UP.MA.ZS     Educational attainment, at least completed upper secondary, population 25+, male (%) (cumulative)\n",
       "SE.SEC.CUAT.UP.ZS        Educational attainment, at least completed upper secondary, population 25+, total (%) (cumulative)\n",
       "SE.TER.CUAT.BA.FE.ZS     Educational attainment, at least Bachelor's or equivalent, population 25+, female (%) (cumulative)\n",
       "SE.TER.CUAT.BA.MA.ZS     Educational attainment, at least Bachelor's or equivalent, population 25+, male (%) (cumulative)\n",
       "SE.TER.CUAT.BA.ZS        Educational attainment, at least Bachelor's or equivalent, population 25+, total (%) (cumulative)\n",
       "SE.TER.CUAT.DO.FE.ZS     Educational attainment, Doctoral or equivalent, population 25+, female (%) (cumulative)\n",
       "SE.TER.CUAT.DO.MA.ZS     Educational attainment, Doctoral or equivalent, population 25+, male (%) (cumulative)\n",
       "SE.TER.CUAT.DO.ZS        Educational attainment, Doctoral or equivalent, population 25+, total (%) (cumulative)\n",
       "SE.TER.CUAT.MS.FE.ZS     Educational attainment, at least Master's or equivalent, population 25+, female (%) (cumulative)\n",
       "SE.TER.CUAT.MS.MA.ZS     Educational attainment, at least Master's or equivalent, population 25+, male (%) (cumulative)\n",
       "SE.TER.CUAT.MS.ZS        Educational attainment, at least Master's or equivalent, population 25+, total (%) (cumulative)\n",
       "SE.TER.CUAT.ST.FE.ZS     Educational attainment, at least completed short-cycle tertiary, population 25+, female (%) (cumulative)\n",
       "SE.TER.CUAT.ST.MA.ZS     Educational attainment, at least completed short-cycle tertiary, population 25+, male (%) (cumulative)\n",
       "SE.TER.CUAT.ST.ZS        Educational attainment, at least completed short-cycle tertiary, population 25+, total (%) (cumulative)\n",
       "SH.CON.1524.FE.ZS        Condom use, population ages 15-24, female (% of females ages 15-24)\n",
       "SH.CON.1524.MA.ZS        Condom use, population ages 15-24, male (% of males ages 15-24)\n",
       "SH.DYN.AIDS.FE.ZS        Women's share of population ages 15+ living with HIV (%)\n",
       "SH.UHC.NOP1.ZS           Proportion of population pushed below the $1.90 ($ 2011 PPP) poverty line by out-of-pocket health care expenditure (%)\n",
       "SH.UHC.NOP2.ZS           Proportion of population pushed below the $3.20 ($ 2011 PPP) poverty line by out-of-pocket health care expenditure (%)\n",
       "SH.UHC.OOPC.10.ZS        Proportion of population spending more than 10% of household consumption or income on out-of-pocket health care expenditure (%)\n",
       "SH.UHC.OOPC.25.ZS        Proportion of population spending more than 25% of household consumption or income on out-of-pocket health care expenditure (%)\n",
       "SI.POV.MDIM.17.XQ        Multidimensional poverty index, children (population ages 0-17) (scale 0-1)\n",
       "SI.SPR.PC40              Survey mean consumption or income per capita, bottom 40% of population (2017 PPP $ per day)\n",
       "SI.SPR.PC40.ZG           Annualized average growth rate in per capita real survey mean consumption or income, bottom 40% of population (%)\n",
       "SI.SPR.PCAP              Survey mean consumption or income per capita, total population (2017 PPP $ per day)\n",
       "SI.SPR.PCAP.ZG           Annualized average growth rate in per capita real survey mean consumption or income, total population (%)\n",
       "SL.EMP.1524.SP.FE.NE.ZS  Employment to population ratio, ages 15-24, female (%) (national estimate)\n",
       "SL.EMP.1524.SP.FE.ZS     Employment to population ratio, ages 15-24, female (%) (modeled ILO estimate)\n",
       "SL.EMP.1524.SP.MA.NE.ZS  Employment to population ratio, ages 15-24, male (%) (national estimate)\n",
       "SL.EMP.1524.SP.MA.ZS     Employment to population ratio, ages 15-24, male (%) (modeled ILO estimate)\n",
       "SL.EMP.1524.SP.NE.ZS     Employment to population ratio, ages 15-24, total (%) (national estimate)\n",
       "SL.EMP.1524.SP.ZS        Employment to population ratio, ages 15-24, total (%) (modeled ILO estimate)\n",
       "SL.EMP.TOTL.SP.FE.NE.ZS  Employment to population ratio, 15+, female (%) (national estimate)\n",
       "SL.EMP.TOTL.SP.FE.ZS     Employment to population ratio, 15+, female (%) (modeled ILO estimate)\n",
       "SL.EMP.TOTL.SP.MA.NE.ZS  Employment to population ratio, 15+, male (%) (national estimate)\n",
       "SL.EMP.TOTL.SP.MA.ZS     Employment to population ratio, 15+, male (%) (modeled ILO estimate)\n",
       "SL.EMP.TOTL.SP.NE.ZS     Employment to population ratio, 15+, total (%) (national estimate)\n",
       "SL.EMP.TOTL.SP.ZS        Employment to population ratio, 15+, total (%) (modeled ILO estimate)\n",
       "SL.TLF.ACTI.FE.ZS        Labor force participation rate, female (% of female population ages 15-64) (modeled ILO estimate)\n",
       "SL.TLF.ACTI.MA.ZS        Labor force participation rate, male (% of male population ages 15-64) (modeled ILO estimate)\n",
       "SL.TLF.ACTI.ZS           Labor force participation rate, total (% of total population ages 15-64) (modeled ILO estimate)\n",
       "SL.TLF.CACT.FE.NE.ZS     Labor force participation rate, female (% of female population ages 15+) (national estimate)\n",
       "SL.TLF.CACT.FE.ZS        Labor force participation rate, female (% of female population ages 15+) (modeled ILO estimate)\n",
       "SL.TLF.CACT.MA.NE.ZS     Labor force participation rate, male (% of male population ages 15+) (national estimate)\n",
       "SL.TLF.CACT.MA.ZS        Labor force participation rate, male (% of male population ages 15+) (modeled ILO estimate)\n",
       "SL.TLF.CACT.NE.ZS        Labor force participation rate, total (% of total population ages 15+) (national estimate)\n",
       "SL.TLF.CACT.ZS           Labor force participation rate, total (% of total population ages 15+) (modeled ILO estimate)\n",
       "SM.POP.REFG              Refugee population by country or territory of asylum\n",
       "SM.POP.REFG.OR           Refugee population by country or territory of origin\n",
       "SN.ITK.MSFI.ZS           Prevalence of moderate or severe food insecurity in the population (%)\n",
       "SN.ITK.SVFI.ZS           Prevalence of severe food insecurity in the population (%)\n",
       "SP.POP.0004.FE.5Y        Population ages 00-04, female (% of female population)\n",
       "SP.POP.0004.MA.5Y        Population ages 00-04, male (% of male population)\n",
       "SP.POP.0014.FE.IN        Population ages 0-14, female\n",
       "SP.POP.0014.FE.ZS        Population ages 0-14, female (% of female population)\n",
       "SP.POP.0014.MA.IN        Population ages 0-14, male\n",
       "SP.POP.0014.MA.ZS        Population ages 0-14, male (% of male population)\n",
       "SP.POP.0014.TO           Population ages 0-14, total\n",
       "SP.POP.0014.TO.ZS        Population ages 0-14 (% of total population)\n",
       "SP.POP.0509.FE.5Y        Population ages 05-09, female (% of female population)\n",
       "SP.POP.0509.MA.5Y        Population ages 05-09, male (% of male population)\n",
       "SP.POP.1014.FE.5Y        Population ages 10-14, female (% of female population)\n",
       "SP.POP.1014.MA.5Y        Population ages 10-14, male (% of male population)\n",
       "SP.POP.1519.FE.5Y        Population ages 15-19, female (% of female population)\n",
       "SP.POP.1519.MA.5Y        Population ages 15-19, male (% of male population)\n",
       "SP.POP.1564.FE.IN        Population ages 15-64, female\n",
       "SP.POP.1564.FE.ZS        Population ages 15-64, female (% of female population)\n",
       "SP.POP.1564.MA.IN        Population ages 15-64, male\n",
       "SP.POP.1564.MA.ZS        Population ages 15-64, male (% of male population)\n",
       "SP.POP.1564.TO           Population ages 15-64, total\n",
       "SP.POP.1564.TO.ZS        Population ages 15-64 (% of total population)\n",
       "SP.POP.2024.FE.5Y        Population ages 20-24, female (% of female population)\n",
       "SP.POP.2024.MA.5Y        Population ages 20-24, male (% of male population)\n",
       "SP.POP.2529.FE.5Y        Population ages 25-29, female (% of female population)\n",
       "SP.POP.2529.MA.5Y        Population ages 25-29, male (% of male population)\n",
       "SP.POP.3034.FE.5Y        Population ages 30-34, female (% of female population)\n",
       "SP.POP.3034.MA.5Y        Population ages 30-34, male (% of male population)\n",
       "SP.POP.3539.FE.5Y        Population ages 35-39, female (% of female population)\n",
       "SP.POP.3539.MA.5Y        Population ages 35-39, male (% of male population)\n",
       "SP.POP.4044.FE.5Y        Population ages 40-44, female (% of female population)\n",
       "SP.POP.4044.MA.5Y        Population ages 40-44, male (% of male population)\n",
       "SP.POP.4549.FE.5Y        Population ages 45-49, female (% of female population)\n",
       "SP.POP.4549.MA.5Y        Population ages 45-49, male (% of male population)\n",
       "SP.POP.5054.FE.5Y        Population ages 50-54, female (% of female population)\n",
       "SP.POP.5054.MA.5Y        Population ages 50-54, male (% of male population)\n",
       "SP.POP.5559.FE.5Y        Population ages 55-59, female (% of female population)\n",
       "SP.POP.5559.MA.5Y        Population ages 55-59, male (% of male population)\n",
       "SP.POP.6064.FE.5Y        Population ages 60-64, female (% of female population)\n",
       "SP.POP.6064.MA.5Y        Population ages 60-64, male (% of male population)\n",
       "SP.POP.6569.FE.5Y        Population ages 65-69, female (% of female population)\n",
       "SP.POP.6569.MA.5Y        Population ages 65-69, male (% of male population)\n",
       "SP.POP.65UP.FE.IN        Population ages 65 and above, female\n",
       "SP.POP.65UP.FE.ZS        Population ages 65 and above, female (% of female population)\n",
       "SP.POP.65UP.MA.IN        Population ages 65 and above, male\n",
       "SP.POP.65UP.MA.ZS        Population ages 65 and above, male (% of male population)\n",
       "SP.POP.65UP.TO           Population ages 65 and above, total\n",
       "SP.POP.65UP.TO.ZS        Population ages 65 and above (% of total population)\n",
       "SP.POP.7074.FE.5Y        Population ages 70-74, female (% of female population)\n",
       "SP.POP.7074.MA.5Y        Population ages 70-74, male (% of male population)\n",
       "SP.POP.7579.FE.5Y        Population ages 75-79, female (% of female population)\n",
       "SP.POP.7579.MA.5Y        Population ages 75-79, male (% of male population)\n",
       "SP.POP.80UP.FE.5Y        Population ages 80 and above, female (% of female population)\n",
       "SP.POP.80UP.MA.5Y        Population ages 80 and above, male (% of male population)\n",
       "SP.POP.GROW              Population growth (annual %)\n",
       "SP.POP.TOTL              Population, total\n",
       "SP.POP.TOTL.FE.IN        Population, female\n",
       "SP.POP.TOTL.FE.ZS        Population, female (% of total population)\n",
       "SP.POP.TOTL.MA.IN        Population, male\n",
       "SP.POP.TOTL.MA.ZS        Population, male (% of total population)\n",
       "SP.RUR.TOTL              Rural population\n",
       "SP.RUR.TOTL.ZG           Rural population growth (annual %)\n",
       "SP.RUR.TOTL.ZS           Rural population (% of total population)\n",
       "SP.URB.GROW              Urban population growth (annual %)\n",
       "SP.URB.TOTL              Urban population\n",
       "SP.URB.TOTL.IN.ZS        Urban population (% of total population)\n",
       "                         138 elements"
      ]
     },
     "execution_count": 59,
     "metadata": {},
     "output_type": "execute_result"
    }
   ],
   "source": [
    "wb.series.info(q='population')"
   ]
  },
  {
   "cell_type": "code",
   "execution_count": 60,
   "metadata": {},
   "outputs": [
    {
     "data": {
      "text/html": [
       "<div>\n",
       "<style scoped>\n",
       "    .dataframe tbody tr th:only-of-type {\n",
       "        vertical-align: middle;\n",
       "    }\n",
       "\n",
       "    .dataframe tbody tr th {\n",
       "        vertical-align: top;\n",
       "    }\n",
       "\n",
       "    .dataframe thead th {\n",
       "        text-align: right;\n",
       "    }\n",
       "</style>\n",
       "<table border=\"1\" class=\"dataframe\">\n",
       "  <thead>\n",
       "    <tr style=\"text-align: right;\">\n",
       "      <th></th>\n",
       "      <th>YR2019</th>\n",
       "      <th>YR2020</th>\n",
       "    </tr>\n",
       "    <tr>\n",
       "      <th>economy</th>\n",
       "      <th></th>\n",
       "      <th></th>\n",
       "    </tr>\n",
       "  </thead>\n",
       "  <tbody>\n",
       "    <tr>\n",
       "      <th>AUT</th>\n",
       "      <td>0.444674</td>\n",
       "      <td>0.415177</td>\n",
       "    </tr>\n",
       "    <tr>\n",
       "      <th>BEL</th>\n",
       "      <td>0.540461</td>\n",
       "      <td>0.479838</td>\n",
       "    </tr>\n",
       "    <tr>\n",
       "      <th>BGR</th>\n",
       "      <td>-0.703906</td>\n",
       "      <td>-0.600242</td>\n",
       "    </tr>\n",
       "    <tr>\n",
       "      <th>CYP</th>\n",
       "      <td>0.779957</td>\n",
       "      <td>0.730447</td>\n",
       "    </tr>\n",
       "    <tr>\n",
       "      <th>CZE</th>\n",
       "      <td>0.393789</td>\n",
       "      <td>0.243223</td>\n",
       "    </tr>\n",
       "    <tr>\n",
       "      <th>DEU</th>\n",
       "      <td>0.225520</td>\n",
       "      <td>0.081693</td>\n",
       "    </tr>\n",
       "    <tr>\n",
       "      <th>DNK</th>\n",
       "      <td>0.358131</td>\n",
       "      <td>0.291641</td>\n",
       "    </tr>\n",
       "    <tr>\n",
       "      <th>ESP</th>\n",
       "      <td>0.717716</td>\n",
       "      <td>0.483781</td>\n",
       "    </tr>\n",
       "    <tr>\n",
       "      <th>EST</th>\n",
       "      <td>0.368314</td>\n",
       "      <td>0.197566</td>\n",
       "    </tr>\n",
       "    <tr>\n",
       "      <th>FIN</th>\n",
       "      <td>0.110192</td>\n",
       "      <td>0.143641</td>\n",
       "    </tr>\n",
       "    <tr>\n",
       "      <th>FRA</th>\n",
       "      <td>0.218824</td>\n",
       "      <td>0.194582</td>\n",
       "    </tr>\n",
       "    <tr>\n",
       "      <th>GRC</th>\n",
       "      <td>-0.105339</td>\n",
       "      <td>-0.196302</td>\n",
       "    </tr>\n",
       "    <tr>\n",
       "      <th>HRV</th>\n",
       "      <td>-0.554147</td>\n",
       "      <td>-0.433210</td>\n",
       "    </tr>\n",
       "    <tr>\n",
       "      <th>HUN</th>\n",
       "      <td>-0.045256</td>\n",
       "      <td>-0.215068</td>\n",
       "    </tr>\n",
       "    <tr>\n",
       "      <th>IRL</th>\n",
       "      <td>1.367627</td>\n",
       "      <td>1.034967</td>\n",
       "    </tr>\n",
       "    <tr>\n",
       "      <th>ITA</th>\n",
       "      <td>-1.153028</td>\n",
       "      <td>-0.469135</td>\n",
       "    </tr>\n",
       "    <tr>\n",
       "      <th>LTU</th>\n",
       "      <td>-0.264704</td>\n",
       "      <td>0.026767</td>\n",
       "    </tr>\n",
       "    <tr>\n",
       "      <th>LUX</th>\n",
       "      <td>1.962845</td>\n",
       "      <td>1.666359</td>\n",
       "    </tr>\n",
       "    <tr>\n",
       "      <th>LVA</th>\n",
       "      <td>-0.695239</td>\n",
       "      <td>-0.701212</td>\n",
       "    </tr>\n",
       "    <tr>\n",
       "      <th>MLT</th>\n",
       "      <td>3.931356</td>\n",
       "      <td>2.211208</td>\n",
       "    </tr>\n",
       "    <tr>\n",
       "      <th>NLD</th>\n",
       "      <td>0.655072</td>\n",
       "      <td>0.555541</td>\n",
       "    </tr>\n",
       "    <tr>\n",
       "      <th>POL</th>\n",
       "      <td>-0.024427</td>\n",
       "      <td>-0.175062</td>\n",
       "    </tr>\n",
       "    <tr>\n",
       "      <th>PRT</th>\n",
       "      <td>0.023733</td>\n",
       "      <td>0.105114</td>\n",
       "    </tr>\n",
       "    <tr>\n",
       "      <th>ROU</th>\n",
       "      <td>-0.526815</td>\n",
       "      <td>-0.590892</td>\n",
       "    </tr>\n",
       "    <tr>\n",
       "      <th>SVK</th>\n",
       "      <td>0.135328</td>\n",
       "      <td>0.085769</td>\n",
       "    </tr>\n",
       "    <tr>\n",
       "      <th>SVN</th>\n",
       "      <td>0.696304</td>\n",
       "      <td>0.669755</td>\n",
       "    </tr>\n",
       "    <tr>\n",
       "      <th>SWE</th>\n",
       "      <td>1.013722</td>\n",
       "      <td>0.722704</td>\n",
       "    </tr>\n",
       "  </tbody>\n",
       "</table>\n",
       "</div>"
      ],
      "text/plain": [
       "           YR2019    YR2020\n",
       "economy                    \n",
       "AUT      0.444674  0.415177\n",
       "BEL      0.540461  0.479838\n",
       "BGR     -0.703906 -0.600242\n",
       "CYP      0.779957  0.730447\n",
       "CZE      0.393789  0.243223\n",
       "DEU      0.225520  0.081693\n",
       "DNK      0.358131  0.291641\n",
       "ESP      0.717716  0.483781\n",
       "EST      0.368314  0.197566\n",
       "FIN      0.110192  0.143641\n",
       "FRA      0.218824  0.194582\n",
       "GRC     -0.105339 -0.196302\n",
       "HRV     -0.554147 -0.433210\n",
       "HUN     -0.045256 -0.215068\n",
       "IRL      1.367627  1.034967\n",
       "ITA     -1.153028 -0.469135\n",
       "LTU     -0.264704  0.026767\n",
       "LUX      1.962845  1.666359\n",
       "LVA     -0.695239 -0.701212\n",
       "MLT      3.931356  2.211208\n",
       "NLD      0.655072  0.555541\n",
       "POL     -0.024427 -0.175062\n",
       "PRT      0.023733  0.105114\n",
       "ROU     -0.526815 -0.590892\n",
       "SVK      0.135328  0.085769\n",
       "SVN      0.696304  0.669755\n",
       "SWE      1.013722  0.722704"
      ]
     },
     "execution_count": 60,
     "metadata": {},
     "output_type": "execute_result"
    }
   ],
   "source": [
    "wb.data.DataFrame('SP.POP.GROW',wb.region.members('EUU'), time= [2019, 2020])"
   ]
  },
  {
   "cell_type": "code",
   "execution_count": 62,
   "metadata": {},
   "outputs": [
    {
     "data": {
      "text/html": [
       "<div class=\"wbgapi\"><table>\n",
       "<thead>\n",
       "<tr><th>id               </th><th>value                                                           </th></tr>\n",
       "</thead>\n",
       "<tbody>\n",
       "<tr><td>AG.LND.FRST.ZS   </td><td>Forest area (% of land area)                                    </td></tr>\n",
       "<tr><td>NY.GDP.PCAP.CD   </td><td>GDP per capita (current US$)                                    </td></tr>\n",
       "<tr><td>FP.CPI.TOTL.ZG   </td><td>Inflation, consumer prices (annual %)                           </td></tr>\n",
       "<tr><td>SP.POP.GROW      </td><td>Population growth (annual %)                                    </td></tr>\n",
       "<tr><td>SP.POP.TOTL.FE.ZS</td><td>Population, female (% of total population)                      </td></tr>\n",
       "<tr><td>SL.UEM.TOTL.NE.ZS</td><td>Unemployment, total (% of total labor force) (national estimate)</td></tr>\n",
       "<tr><td>                 </td><td>6 elements                                                      </td></tr>\n",
       "</tbody>\n",
       "</table></div>"
      ],
      "text/plain": [
       "id                 value\n",
       "-----------------  ----------------------------------------------------------------\n",
       "AG.LND.FRST.ZS     Forest area (% of land area)\n",
       "NY.GDP.PCAP.CD     GDP per capita (current US$)\n",
       "FP.CPI.TOTL.ZG     Inflation, consumer prices (annual %)\n",
       "SP.POP.GROW        Population growth (annual %)\n",
       "SP.POP.TOTL.FE.ZS  Population, female (% of total population)\n",
       "SL.UEM.TOTL.NE.ZS  Unemployment, total (% of total labor force) (national estimate)\n",
       "                   6 elements"
      ]
     },
     "execution_count": 62,
     "metadata": {},
     "output_type": "execute_result"
    }
   ],
   "source": [
    "wb.series.info(kpi_dict)"
   ]
  },
  {
   "cell_type": "code",
   "execution_count": null,
   "metadata": {},
   "outputs": [],
   "source": []
  },
  {
   "cell_type": "code",
   "execution_count": 63,
   "metadata": {},
   "outputs": [
    {
     "data": {
      "text/html": [
       "<div>\n",
       "<style scoped>\n",
       "    .dataframe tbody tr th:only-of-type {\n",
       "        vertical-align: middle;\n",
       "    }\n",
       "\n",
       "    .dataframe tbody tr th {\n",
       "        vertical-align: top;\n",
       "    }\n",
       "\n",
       "    .dataframe thead th {\n",
       "        text-align: right;\n",
       "    }\n",
       "</style>\n",
       "<table border=\"1\" class=\"dataframe\">\n",
       "  <thead>\n",
       "    <tr style=\"text-align: right;\">\n",
       "      <th></th>\n",
       "      <th>Forest Area</th>\n",
       "      <th>Inflation</th>\n",
       "      <th>GDP per capita</th>\n",
       "      <th>Unemployment</th>\n",
       "      <th>Population Growth</th>\n",
       "      <th>Population female prct</th>\n",
       "    </tr>\n",
       "    <tr>\n",
       "      <th>Country</th>\n",
       "      <th></th>\n",
       "      <th></th>\n",
       "      <th></th>\n",
       "      <th></th>\n",
       "      <th></th>\n",
       "      <th></th>\n",
       "    </tr>\n",
       "  </thead>\n",
       "  <tbody>\n",
       "    <tr>\n",
       "      <th>Malta</th>\n",
       "      <td>1.437500</td>\n",
       "      <td>-0.638545</td>\n",
       "      <td>28946.462677</td>\n",
       "      <td>-4.350000</td>\n",
       "      <td>2.211208</td>\n",
       "      <td>49.852674</td>\n",
       "    </tr>\n",
       "    <tr>\n",
       "      <th>France</th>\n",
       "      <td>31.509048</td>\n",
       "      <td>-0.476499</td>\n",
       "      <td>39037.122631</td>\n",
       "      <td>-8.010000</td>\n",
       "      <td>0.194582</td>\n",
       "      <td>51.604879</td>\n",
       "    </tr>\n",
       "    <tr>\n",
       "      <th>Netherlands</th>\n",
       "      <td>10.974161</td>\n",
       "      <td>-1.272460</td>\n",
       "      <td>52396.032210</td>\n",
       "      <td>-3.820000</td>\n",
       "      <td>0.555541</td>\n",
       "      <td>50.176783</td>\n",
       "    </tr>\n",
       "    <tr>\n",
       "      <th>Ireland</th>\n",
       "      <td>11.351720</td>\n",
       "      <td>0.334585</td>\n",
       "      <td>85422.542868</td>\n",
       "      <td>-5.620000</td>\n",
       "      <td>1.034967</td>\n",
       "      <td>50.355401</td>\n",
       "    </tr>\n",
       "    <tr>\n",
       "      <th>Portugal</th>\n",
       "      <td>36.154995</td>\n",
       "      <td>0.012438</td>\n",
       "      <td>22194.566115</td>\n",
       "      <td>-6.800000</td>\n",
       "      <td>0.105114</td>\n",
       "      <td>52.690275</td>\n",
       "    </tr>\n",
       "    <tr>\n",
       "      <th>Greece</th>\n",
       "      <td>30.269977</td>\n",
       "      <td>1.247984</td>\n",
       "      <td>17647.232688</td>\n",
       "      <td>-16.309999</td>\n",
       "      <td>-0.196302</td>\n",
       "      <td>50.918176</td>\n",
       "    </tr>\n",
       "    <tr>\n",
       "      <th>Czechia</th>\n",
       "      <td>34.677992</td>\n",
       "      <td>-3.161295</td>\n",
       "      <td>22933.499591</td>\n",
       "      <td>-2.550000</td>\n",
       "      <td>0.243223</td>\n",
       "      <td>50.765423</td>\n",
       "    </tr>\n",
       "    <tr>\n",
       "      <th>Belgium</th>\n",
       "      <td>22.764201</td>\n",
       "      <td>-0.740792</td>\n",
       "      <td>45189.366900</td>\n",
       "      <td>-5.550000</td>\n",
       "      <td>0.479838</td>\n",
       "      <td>50.435502</td>\n",
       "    </tr>\n",
       "    <tr>\n",
       "      <th>Cyprus</th>\n",
       "      <td>18.672078</td>\n",
       "      <td>0.638423</td>\n",
       "      <td>27681.566406</td>\n",
       "      <td>-7.590000</td>\n",
       "      <td>0.730447</td>\n",
       "      <td>50.013790</td>\n",
       "    </tr>\n",
       "    <tr>\n",
       "      <th>Denmark</th>\n",
       "      <td>15.711000</td>\n",
       "      <td>-0.420712</td>\n",
       "      <td>61063.316430</td>\n",
       "      <td>-5.640000</td>\n",
       "      <td>0.291641</td>\n",
       "      <td>50.289018</td>\n",
       "    </tr>\n",
       "    <tr>\n",
       "      <th>Croatia</th>\n",
       "      <td>34.651716</td>\n",
       "      <td>-0.154811</td>\n",
       "      <td>14132.486561</td>\n",
       "      <td>-7.510000</td>\n",
       "      <td>-0.433210</td>\n",
       "      <td>51.786534</td>\n",
       "    </tr>\n",
       "    <tr>\n",
       "      <th>Hungary</th>\n",
       "      <td>22.496274</td>\n",
       "      <td>-3.326744</td>\n",
       "      <td>16075.973266</td>\n",
       "      <td>-4.250000</td>\n",
       "      <td>-0.215068</td>\n",
       "      <td>52.400400</td>\n",
       "    </tr>\n",
       "    <tr>\n",
       "      <th>Luxembourg</th>\n",
       "      <td>34.453827</td>\n",
       "      <td>-0.819957</td>\n",
       "      <td>116356.158037</td>\n",
       "      <td>-6.770000</td>\n",
       "      <td>1.666359</td>\n",
       "      <td>49.425058</td>\n",
       "    </tr>\n",
       "    <tr>\n",
       "      <th>Finland</th>\n",
       "      <td>73.728367</td>\n",
       "      <td>-0.290555</td>\n",
       "      <td>49160.837152</td>\n",
       "      <td>-7.760000</td>\n",
       "      <td>0.143641</td>\n",
       "      <td>50.684983</td>\n",
       "    </tr>\n",
       "    <tr>\n",
       "      <th>Italy</th>\n",
       "      <td>32.348935</td>\n",
       "      <td>0.137708</td>\n",
       "      <td>31834.972618</td>\n",
       "      <td>-9.160000</td>\n",
       "      <td>-0.469135</td>\n",
       "      <td>51.311884</td>\n",
       "    </tr>\n",
       "    <tr>\n",
       "      <th>Slovenia</th>\n",
       "      <td>61.472259</td>\n",
       "      <td>0.054857</td>\n",
       "      <td>25489.500228</td>\n",
       "      <td>-4.970000</td>\n",
       "      <td>0.669755</td>\n",
       "      <td>50.203758</td>\n",
       "    </tr>\n",
       "    <tr>\n",
       "      <th>Poland</th>\n",
       "      <td>30.977036</td>\n",
       "      <td>-3.374470</td>\n",
       "      <td>15742.453726</td>\n",
       "      <td>-3.160000</td>\n",
       "      <td>-0.175062</td>\n",
       "      <td>51.546822</td>\n",
       "    </tr>\n",
       "    <tr>\n",
       "      <th>Germany</th>\n",
       "      <td>32.682676</td>\n",
       "      <td>-0.506690</td>\n",
       "      <td>46252.689304</td>\n",
       "      <td>-3.860000</td>\n",
       "      <td>0.081693</td>\n",
       "      <td>50.568201</td>\n",
       "    </tr>\n",
       "    <tr>\n",
       "      <th>Spain</th>\n",
       "      <td>37.177305</td>\n",
       "      <td>0.322753</td>\n",
       "      <td>27056.421751</td>\n",
       "      <td>-15.530000</td>\n",
       "      <td>0.483781</td>\n",
       "      <td>50.853503</td>\n",
       "    </tr>\n",
       "    <tr>\n",
       "      <th>Sweden</th>\n",
       "      <td>68.699070</td>\n",
       "      <td>-0.497367</td>\n",
       "      <td>52300.206199</td>\n",
       "      <td>-8.290000</td>\n",
       "      <td>0.722704</td>\n",
       "      <td>49.907795</td>\n",
       "    </tr>\n",
       "    <tr>\n",
       "      <th>Romania</th>\n",
       "      <td>30.115829</td>\n",
       "      <td>-2.631073</td>\n",
       "      <td>12956.566248</td>\n",
       "      <td>-5.030000</td>\n",
       "      <td>-0.590892</td>\n",
       "      <td>51.377136</td>\n",
       "    </tr>\n",
       "    <tr>\n",
       "      <th>Estonia</th>\n",
       "      <td>57.038596</td>\n",
       "      <td>0.444531</td>\n",
       "      <td>23054.358491</td>\n",
       "      <td>-6.960000</td>\n",
       "      <td>0.197566</td>\n",
       "      <td>52.624386</td>\n",
       "    </tr>\n",
       "    <tr>\n",
       "      <th>Austria</th>\n",
       "      <td>47.250969</td>\n",
       "      <td>-1.381911</td>\n",
       "      <td>48588.659385</td>\n",
       "      <td>-5.360000</td>\n",
       "      <td>0.415177</td>\n",
       "      <td>50.705154</td>\n",
       "    </tr>\n",
       "    <tr>\n",
       "      <th>Latvia</th>\n",
       "      <td>54.809417</td>\n",
       "      <td>-0.219065</td>\n",
       "      <td>17703.953443</td>\n",
       "      <td>-8.100000</td>\n",
       "      <td>-0.701212</td>\n",
       "      <td>53.910769</td>\n",
       "    </tr>\n",
       "    <tr>\n",
       "      <th>Bulgaria</th>\n",
       "      <td>35.860354</td>\n",
       "      <td>-1.672441</td>\n",
       "      <td>10079.203381</td>\n",
       "      <td>-5.120000</td>\n",
       "      <td>-0.600242</td>\n",
       "      <td>51.440632</td>\n",
       "    </tr>\n",
       "    <tr>\n",
       "      <th>Slovak Republic</th>\n",
       "      <td>40.056156</td>\n",
       "      <td>-1.936941</td>\n",
       "      <td>19266.513574</td>\n",
       "      <td>-6.690000</td>\n",
       "      <td>0.085769</td>\n",
       "      <td>51.306725</td>\n",
       "    </tr>\n",
       "    <tr>\n",
       "      <th>Lithuania</th>\n",
       "      <td>35.148515</td>\n",
       "      <td>-1.199894</td>\n",
       "      <td>20232.302036</td>\n",
       "      <td>-8.490000</td>\n",
       "      <td>0.026767</td>\n",
       "      <td>53.715933</td>\n",
       "    </tr>\n",
       "  </tbody>\n",
       "</table>\n",
       "</div>"
      ],
      "text/plain": [
       "                 Forest Area  Inflation  GDP per capita  Unemployment  \\\n",
       "Country                                                                 \n",
       "Malta               1.437500  -0.638545    28946.462677     -4.350000   \n",
       "France             31.509048  -0.476499    39037.122631     -8.010000   \n",
       "Netherlands        10.974161  -1.272460    52396.032210     -3.820000   \n",
       "Ireland            11.351720   0.334585    85422.542868     -5.620000   \n",
       "Portugal           36.154995   0.012438    22194.566115     -6.800000   \n",
       "Greece             30.269977   1.247984    17647.232688    -16.309999   \n",
       "Czechia            34.677992  -3.161295    22933.499591     -2.550000   \n",
       "Belgium            22.764201  -0.740792    45189.366900     -5.550000   \n",
       "Cyprus             18.672078   0.638423    27681.566406     -7.590000   \n",
       "Denmark            15.711000  -0.420712    61063.316430     -5.640000   \n",
       "Croatia            34.651716  -0.154811    14132.486561     -7.510000   \n",
       "Hungary            22.496274  -3.326744    16075.973266     -4.250000   \n",
       "Luxembourg         34.453827  -0.819957   116356.158037     -6.770000   \n",
       "Finland            73.728367  -0.290555    49160.837152     -7.760000   \n",
       "Italy              32.348935   0.137708    31834.972618     -9.160000   \n",
       "Slovenia           61.472259   0.054857    25489.500228     -4.970000   \n",
       "Poland             30.977036  -3.374470    15742.453726     -3.160000   \n",
       "Germany            32.682676  -0.506690    46252.689304     -3.860000   \n",
       "Spain              37.177305   0.322753    27056.421751    -15.530000   \n",
       "Sweden             68.699070  -0.497367    52300.206199     -8.290000   \n",
       "Romania            30.115829  -2.631073    12956.566248     -5.030000   \n",
       "Estonia            57.038596   0.444531    23054.358491     -6.960000   \n",
       "Austria            47.250969  -1.381911    48588.659385     -5.360000   \n",
       "Latvia             54.809417  -0.219065    17703.953443     -8.100000   \n",
       "Bulgaria           35.860354  -1.672441    10079.203381     -5.120000   \n",
       "Slovak Republic    40.056156  -1.936941    19266.513574     -6.690000   \n",
       "Lithuania          35.148515  -1.199894    20232.302036     -8.490000   \n",
       "\n",
       "                 Population Growth  Population female prct  \n",
       "Country                                                     \n",
       "Malta                     2.211208               49.852674  \n",
       "France                    0.194582               51.604879  \n",
       "Netherlands               0.555541               50.176783  \n",
       "Ireland                   1.034967               50.355401  \n",
       "Portugal                  0.105114               52.690275  \n",
       "Greece                   -0.196302               50.918176  \n",
       "Czechia                   0.243223               50.765423  \n",
       "Belgium                   0.479838               50.435502  \n",
       "Cyprus                    0.730447               50.013790  \n",
       "Denmark                   0.291641               50.289018  \n",
       "Croatia                  -0.433210               51.786534  \n",
       "Hungary                  -0.215068               52.400400  \n",
       "Luxembourg                1.666359               49.425058  \n",
       "Finland                   0.143641               50.684983  \n",
       "Italy                    -0.469135               51.311884  \n",
       "Slovenia                  0.669755               50.203758  \n",
       "Poland                   -0.175062               51.546822  \n",
       "Germany                   0.081693               50.568201  \n",
       "Spain                     0.483781               50.853503  \n",
       "Sweden                    0.722704               49.907795  \n",
       "Romania                  -0.590892               51.377136  \n",
       "Estonia                   0.197566               52.624386  \n",
       "Austria                   0.415177               50.705154  \n",
       "Latvia                   -0.701212               53.910769  \n",
       "Bulgaria                 -0.600242               51.440632  \n",
       "Slovak Republic           0.085769               51.306725  \n",
       "Lithuania                 0.026767               53.715933  "
      ]
     },
     "execution_count": 63,
     "metadata": {},
     "output_type": "execute_result"
    }
   ],
   "source": [
    "df = wb.data.DataFrame(list(kpi_dict.keys()),wb.region.members('EUU'), time= 2020, labels=True).dropna()\n",
    "df.columns = ['Country'] + list(kpi_dict.values())\n",
    "df.set_index('Country', inplace=True)\n",
    "df['Inflation'] = -df['Inflation']\n",
    "df['Unemployment'] = -df['Unemployment']\n",
    "df  "
   ]
  },
  {
   "cell_type": "markdown",
   "metadata": {},
   "source": [
    "BENCHMARKING"
   ]
  },
  {
   "cell_type": "code",
   "execution_count": 64,
   "metadata": {},
   "outputs": [
    {
     "data": {
      "text/html": [
       "<div>\n",
       "<style scoped>\n",
       "    .dataframe tbody tr th:only-of-type {\n",
       "        vertical-align: middle;\n",
       "    }\n",
       "\n",
       "    .dataframe tbody tr th {\n",
       "        vertical-align: top;\n",
       "    }\n",
       "\n",
       "    .dataframe thead th {\n",
       "        text-align: right;\n",
       "    }\n",
       "</style>\n",
       "<table border=\"1\" class=\"dataframe\">\n",
       "  <thead>\n",
       "    <tr style=\"text-align: right;\">\n",
       "      <th></th>\n",
       "      <th>Forest Area</th>\n",
       "      <th>Inflation</th>\n",
       "      <th>GDP per capita</th>\n",
       "      <th>Unemployment</th>\n",
       "      <th>Population Growth</th>\n",
       "      <th>Population female prct</th>\n",
       "    </tr>\n",
       "    <tr>\n",
       "      <th>Country</th>\n",
       "      <th></th>\n",
       "      <th></th>\n",
       "      <th></th>\n",
       "      <th></th>\n",
       "      <th></th>\n",
       "      <th></th>\n",
       "    </tr>\n",
       "  </thead>\n",
       "  <tbody>\n",
       "    <tr>\n",
       "      <th>Malta</th>\n",
       "      <td>1.437500</td>\n",
       "      <td>-0.638545</td>\n",
       "      <td>28946.462677</td>\n",
       "      <td>-4.350000</td>\n",
       "      <td>2.211208</td>\n",
       "      <td>49.852674</td>\n",
       "    </tr>\n",
       "    <tr>\n",
       "      <th>France</th>\n",
       "      <td>31.509048</td>\n",
       "      <td>-0.476499</td>\n",
       "      <td>39037.122631</td>\n",
       "      <td>-8.010000</td>\n",
       "      <td>0.194582</td>\n",
       "      <td>51.604879</td>\n",
       "    </tr>\n",
       "    <tr>\n",
       "      <th>Netherlands</th>\n",
       "      <td>10.974161</td>\n",
       "      <td>-1.272460</td>\n",
       "      <td>52396.032210</td>\n",
       "      <td>-3.820000</td>\n",
       "      <td>0.555541</td>\n",
       "      <td>50.176783</td>\n",
       "    </tr>\n",
       "    <tr>\n",
       "      <th>Ireland</th>\n",
       "      <td>11.351720</td>\n",
       "      <td>0.334585</td>\n",
       "      <td>85422.542868</td>\n",
       "      <td>-5.620000</td>\n",
       "      <td>1.034967</td>\n",
       "      <td>50.355401</td>\n",
       "    </tr>\n",
       "    <tr>\n",
       "      <th>Portugal</th>\n",
       "      <td>36.154995</td>\n",
       "      <td>0.012438</td>\n",
       "      <td>22194.566115</td>\n",
       "      <td>-6.800000</td>\n",
       "      <td>0.105114</td>\n",
       "      <td>52.690275</td>\n",
       "    </tr>\n",
       "    <tr>\n",
       "      <th>Greece</th>\n",
       "      <td>30.269977</td>\n",
       "      <td>1.247984</td>\n",
       "      <td>17647.232688</td>\n",
       "      <td>-16.309999</td>\n",
       "      <td>-0.196302</td>\n",
       "      <td>50.918176</td>\n",
       "    </tr>\n",
       "    <tr>\n",
       "      <th>Czechia</th>\n",
       "      <td>34.677992</td>\n",
       "      <td>-3.161295</td>\n",
       "      <td>22933.499591</td>\n",
       "      <td>-2.550000</td>\n",
       "      <td>0.243223</td>\n",
       "      <td>50.765423</td>\n",
       "    </tr>\n",
       "    <tr>\n",
       "      <th>Belgium</th>\n",
       "      <td>22.764201</td>\n",
       "      <td>-0.740792</td>\n",
       "      <td>45189.366900</td>\n",
       "      <td>-5.550000</td>\n",
       "      <td>0.479838</td>\n",
       "      <td>50.435502</td>\n",
       "    </tr>\n",
       "    <tr>\n",
       "      <th>Cyprus</th>\n",
       "      <td>18.672078</td>\n",
       "      <td>0.638423</td>\n",
       "      <td>27681.566406</td>\n",
       "      <td>-7.590000</td>\n",
       "      <td>0.730447</td>\n",
       "      <td>50.013790</td>\n",
       "    </tr>\n",
       "    <tr>\n",
       "      <th>Denmark</th>\n",
       "      <td>15.711000</td>\n",
       "      <td>-0.420712</td>\n",
       "      <td>61063.316430</td>\n",
       "      <td>-5.640000</td>\n",
       "      <td>0.291641</td>\n",
       "      <td>50.289018</td>\n",
       "    </tr>\n",
       "    <tr>\n",
       "      <th>Croatia</th>\n",
       "      <td>34.651716</td>\n",
       "      <td>-0.154811</td>\n",
       "      <td>14132.486561</td>\n",
       "      <td>-7.510000</td>\n",
       "      <td>-0.433210</td>\n",
       "      <td>51.786534</td>\n",
       "    </tr>\n",
       "    <tr>\n",
       "      <th>Hungary</th>\n",
       "      <td>22.496274</td>\n",
       "      <td>-3.326744</td>\n",
       "      <td>16075.973266</td>\n",
       "      <td>-4.250000</td>\n",
       "      <td>-0.215068</td>\n",
       "      <td>52.400400</td>\n",
       "    </tr>\n",
       "    <tr>\n",
       "      <th>Luxembourg</th>\n",
       "      <td>34.453827</td>\n",
       "      <td>-0.819957</td>\n",
       "      <td>116356.158037</td>\n",
       "      <td>-6.770000</td>\n",
       "      <td>1.666359</td>\n",
       "      <td>49.425058</td>\n",
       "    </tr>\n",
       "    <tr>\n",
       "      <th>Finland</th>\n",
       "      <td>73.728367</td>\n",
       "      <td>-0.290555</td>\n",
       "      <td>49160.837152</td>\n",
       "      <td>-7.760000</td>\n",
       "      <td>0.143641</td>\n",
       "      <td>50.684983</td>\n",
       "    </tr>\n",
       "    <tr>\n",
       "      <th>Italy</th>\n",
       "      <td>32.348935</td>\n",
       "      <td>0.137708</td>\n",
       "      <td>31834.972618</td>\n",
       "      <td>-9.160000</td>\n",
       "      <td>-0.469135</td>\n",
       "      <td>51.311884</td>\n",
       "    </tr>\n",
       "    <tr>\n",
       "      <th>Slovenia</th>\n",
       "      <td>61.472259</td>\n",
       "      <td>0.054857</td>\n",
       "      <td>25489.500228</td>\n",
       "      <td>-4.970000</td>\n",
       "      <td>0.669755</td>\n",
       "      <td>50.203758</td>\n",
       "    </tr>\n",
       "    <tr>\n",
       "      <th>Poland</th>\n",
       "      <td>30.977036</td>\n",
       "      <td>-3.374470</td>\n",
       "      <td>15742.453726</td>\n",
       "      <td>-3.160000</td>\n",
       "      <td>-0.175062</td>\n",
       "      <td>51.546822</td>\n",
       "    </tr>\n",
       "    <tr>\n",
       "      <th>Germany</th>\n",
       "      <td>32.682676</td>\n",
       "      <td>-0.506690</td>\n",
       "      <td>46252.689304</td>\n",
       "      <td>-3.860000</td>\n",
       "      <td>0.081693</td>\n",
       "      <td>50.568201</td>\n",
       "    </tr>\n",
       "    <tr>\n",
       "      <th>Spain</th>\n",
       "      <td>37.177305</td>\n",
       "      <td>0.322753</td>\n",
       "      <td>27056.421751</td>\n",
       "      <td>-15.530000</td>\n",
       "      <td>0.483781</td>\n",
       "      <td>50.853503</td>\n",
       "    </tr>\n",
       "    <tr>\n",
       "      <th>Sweden</th>\n",
       "      <td>68.699070</td>\n",
       "      <td>-0.497367</td>\n",
       "      <td>52300.206199</td>\n",
       "      <td>-8.290000</td>\n",
       "      <td>0.722704</td>\n",
       "      <td>49.907795</td>\n",
       "    </tr>\n",
       "    <tr>\n",
       "      <th>Romania</th>\n",
       "      <td>30.115829</td>\n",
       "      <td>-2.631073</td>\n",
       "      <td>12956.566248</td>\n",
       "      <td>-5.030000</td>\n",
       "      <td>-0.590892</td>\n",
       "      <td>51.377136</td>\n",
       "    </tr>\n",
       "    <tr>\n",
       "      <th>Estonia</th>\n",
       "      <td>57.038596</td>\n",
       "      <td>0.444531</td>\n",
       "      <td>23054.358491</td>\n",
       "      <td>-6.960000</td>\n",
       "      <td>0.197566</td>\n",
       "      <td>52.624386</td>\n",
       "    </tr>\n",
       "    <tr>\n",
       "      <th>Austria</th>\n",
       "      <td>47.250969</td>\n",
       "      <td>-1.381911</td>\n",
       "      <td>48588.659385</td>\n",
       "      <td>-5.360000</td>\n",
       "      <td>0.415177</td>\n",
       "      <td>50.705154</td>\n",
       "    </tr>\n",
       "    <tr>\n",
       "      <th>Latvia</th>\n",
       "      <td>54.809417</td>\n",
       "      <td>-0.219065</td>\n",
       "      <td>17703.953443</td>\n",
       "      <td>-8.100000</td>\n",
       "      <td>-0.701212</td>\n",
       "      <td>53.910769</td>\n",
       "    </tr>\n",
       "    <tr>\n",
       "      <th>Bulgaria</th>\n",
       "      <td>35.860354</td>\n",
       "      <td>-1.672441</td>\n",
       "      <td>10079.203381</td>\n",
       "      <td>-5.120000</td>\n",
       "      <td>-0.600242</td>\n",
       "      <td>51.440632</td>\n",
       "    </tr>\n",
       "    <tr>\n",
       "      <th>Slovak Republic</th>\n",
       "      <td>40.056156</td>\n",
       "      <td>-1.936941</td>\n",
       "      <td>19266.513574</td>\n",
       "      <td>-6.690000</td>\n",
       "      <td>0.085769</td>\n",
       "      <td>51.306725</td>\n",
       "    </tr>\n",
       "    <tr>\n",
       "      <th>Lithuania</th>\n",
       "      <td>35.148515</td>\n",
       "      <td>-1.199894</td>\n",
       "      <td>20232.302036</td>\n",
       "      <td>-8.490000</td>\n",
       "      <td>0.026767</td>\n",
       "      <td>53.715933</td>\n",
       "    </tr>\n",
       "    <tr>\n",
       "      <th>Benchmark</th>\n",
       "      <td>34.907036</td>\n",
       "      <td>-0.797368</td>\n",
       "      <td>35140.554219</td>\n",
       "      <td>-6.787037</td>\n",
       "      <td>0.257728</td>\n",
       "      <td>51.143392</td>\n",
       "    </tr>\n",
       "  </tbody>\n",
       "</table>\n",
       "</div>"
      ],
      "text/plain": [
       "                 Forest Area  Inflation  GDP per capita  Unemployment  \\\n",
       "Country                                                                 \n",
       "Malta               1.437500  -0.638545    28946.462677     -4.350000   \n",
       "France             31.509048  -0.476499    39037.122631     -8.010000   \n",
       "Netherlands        10.974161  -1.272460    52396.032210     -3.820000   \n",
       "Ireland            11.351720   0.334585    85422.542868     -5.620000   \n",
       "Portugal           36.154995   0.012438    22194.566115     -6.800000   \n",
       "Greece             30.269977   1.247984    17647.232688    -16.309999   \n",
       "Czechia            34.677992  -3.161295    22933.499591     -2.550000   \n",
       "Belgium            22.764201  -0.740792    45189.366900     -5.550000   \n",
       "Cyprus             18.672078   0.638423    27681.566406     -7.590000   \n",
       "Denmark            15.711000  -0.420712    61063.316430     -5.640000   \n",
       "Croatia            34.651716  -0.154811    14132.486561     -7.510000   \n",
       "Hungary            22.496274  -3.326744    16075.973266     -4.250000   \n",
       "Luxembourg         34.453827  -0.819957   116356.158037     -6.770000   \n",
       "Finland            73.728367  -0.290555    49160.837152     -7.760000   \n",
       "Italy              32.348935   0.137708    31834.972618     -9.160000   \n",
       "Slovenia           61.472259   0.054857    25489.500228     -4.970000   \n",
       "Poland             30.977036  -3.374470    15742.453726     -3.160000   \n",
       "Germany            32.682676  -0.506690    46252.689304     -3.860000   \n",
       "Spain              37.177305   0.322753    27056.421751    -15.530000   \n",
       "Sweden             68.699070  -0.497367    52300.206199     -8.290000   \n",
       "Romania            30.115829  -2.631073    12956.566248     -5.030000   \n",
       "Estonia            57.038596   0.444531    23054.358491     -6.960000   \n",
       "Austria            47.250969  -1.381911    48588.659385     -5.360000   \n",
       "Latvia             54.809417  -0.219065    17703.953443     -8.100000   \n",
       "Bulgaria           35.860354  -1.672441    10079.203381     -5.120000   \n",
       "Slovak Republic    40.056156  -1.936941    19266.513574     -6.690000   \n",
       "Lithuania          35.148515  -1.199894    20232.302036     -8.490000   \n",
       "Benchmark          34.907036  -0.797368    35140.554219     -6.787037   \n",
       "\n",
       "                 Population Growth  Population female prct  \n",
       "Country                                                     \n",
       "Malta                     2.211208               49.852674  \n",
       "France                    0.194582               51.604879  \n",
       "Netherlands               0.555541               50.176783  \n",
       "Ireland                   1.034967               50.355401  \n",
       "Portugal                  0.105114               52.690275  \n",
       "Greece                   -0.196302               50.918176  \n",
       "Czechia                   0.243223               50.765423  \n",
       "Belgium                   0.479838               50.435502  \n",
       "Cyprus                    0.730447               50.013790  \n",
       "Denmark                   0.291641               50.289018  \n",
       "Croatia                  -0.433210               51.786534  \n",
       "Hungary                  -0.215068               52.400400  \n",
       "Luxembourg                1.666359               49.425058  \n",
       "Finland                   0.143641               50.684983  \n",
       "Italy                    -0.469135               51.311884  \n",
       "Slovenia                  0.669755               50.203758  \n",
       "Poland                   -0.175062               51.546822  \n",
       "Germany                   0.081693               50.568201  \n",
       "Spain                     0.483781               50.853503  \n",
       "Sweden                    0.722704               49.907795  \n",
       "Romania                  -0.590892               51.377136  \n",
       "Estonia                   0.197566               52.624386  \n",
       "Austria                   0.415177               50.705154  \n",
       "Latvia                   -0.701212               53.910769  \n",
       "Bulgaria                 -0.600242               51.440632  \n",
       "Slovak Republic           0.085769               51.306725  \n",
       "Lithuania                 0.026767               53.715933  \n",
       "Benchmark                 0.257728               51.143392  "
      ]
     },
     "execution_count": 64,
     "metadata": {},
     "output_type": "execute_result"
    }
   ],
   "source": [
    "mean_df = pd.DataFrame(df.mean()).T\n",
    "mean_df[df.index.name] = 'Benchmark'\n",
    "\n",
    "mean_df.set_index(df.index.name, inplace=True)\n",
    "mean_df\n",
    "\n",
    "benchmark_df = df.append(mean_df)\n",
    "benchmark_df"
   ]
  },
  {
   "cell_type": "code",
   "execution_count": 65,
   "metadata": {},
   "outputs": [
    {
     "data": {
      "text/plain": [
       "[1, 1, 1, 1, 1, 1]"
      ]
     },
     "execution_count": 65,
     "metadata": {},
     "output_type": "execute_result"
    }
   ],
   "source": [
    "weights = [1] * len(benchmark_df.columns)\n",
    "weights"
   ]
  },
  {
   "cell_type": "code",
   "execution_count": 66,
   "metadata": {},
   "outputs": [
    {
     "data": {
      "text/html": [
       "<div>\n",
       "<style scoped>\n",
       "    .dataframe tbody tr th:only-of-type {\n",
       "        vertical-align: middle;\n",
       "    }\n",
       "\n",
       "    .dataframe tbody tr th {\n",
       "        vertical-align: top;\n",
       "    }\n",
       "\n",
       "    .dataframe thead th {\n",
       "        text-align: right;\n",
       "    }\n",
       "</style>\n",
       "<table border=\"1\" class=\"dataframe\">\n",
       "  <thead>\n",
       "    <tr style=\"text-align: right;\">\n",
       "      <th></th>\n",
       "      <th>Forest Area</th>\n",
       "      <th>Inflation</th>\n",
       "      <th>GDP per capita</th>\n",
       "      <th>Unemployment</th>\n",
       "      <th>Population Growth</th>\n",
       "      <th>Population female prct</th>\n",
       "    </tr>\n",
       "    <tr>\n",
       "      <th>Country</th>\n",
       "      <th></th>\n",
       "      <th></th>\n",
       "      <th></th>\n",
       "      <th></th>\n",
       "      <th></th>\n",
       "      <th></th>\n",
       "    </tr>\n",
       "  </thead>\n",
       "  <tbody>\n",
       "    <tr>\n",
       "      <th>Malta</th>\n",
       "      <td>1.0</td>\n",
       "      <td>13.0</td>\n",
       "      <td>16.0</td>\n",
       "      <td>23.0</td>\n",
       "      <td>28.0</td>\n",
       "      <td>2.0</td>\n",
       "    </tr>\n",
       "    <tr>\n",
       "      <th>France</th>\n",
       "      <td>11.0</td>\n",
       "      <td>16.0</td>\n",
       "      <td>19.0</td>\n",
       "      <td>7.0</td>\n",
       "      <td>14.0</td>\n",
       "      <td>22.0</td>\n",
       "    </tr>\n",
       "    <tr>\n",
       "      <th>Netherlands</th>\n",
       "      <td>2.0</td>\n",
       "      <td>8.0</td>\n",
       "      <td>25.0</td>\n",
       "      <td>26.0</td>\n",
       "      <td>22.0</td>\n",
       "      <td>5.0</td>\n",
       "    </tr>\n",
       "    <tr>\n",
       "      <th>Ireland</th>\n",
       "      <td>3.0</td>\n",
       "      <td>25.0</td>\n",
       "      <td>27.0</td>\n",
       "      <td>17.0</td>\n",
       "      <td>26.0</td>\n",
       "      <td>8.0</td>\n",
       "    </tr>\n",
       "    <tr>\n",
       "      <th>Portugal</th>\n",
       "      <td>20.0</td>\n",
       "      <td>21.0</td>\n",
       "      <td>10.0</td>\n",
       "      <td>12.0</td>\n",
       "      <td>12.0</td>\n",
       "      <td>26.0</td>\n",
       "    </tr>\n",
       "    <tr>\n",
       "      <th>Greece</th>\n",
       "      <td>9.0</td>\n",
       "      <td>28.0</td>\n",
       "      <td>6.0</td>\n",
       "      <td>1.0</td>\n",
       "      <td>7.0</td>\n",
       "      <td>15.0</td>\n",
       "    </tr>\n",
       "    <tr>\n",
       "      <th>Czechia</th>\n",
       "      <td>16.0</td>\n",
       "      <td>3.0</td>\n",
       "      <td>11.0</td>\n",
       "      <td>28.0</td>\n",
       "      <td>16.0</td>\n",
       "      <td>13.0</td>\n",
       "    </tr>\n",
       "    <tr>\n",
       "      <th>Belgium</th>\n",
       "      <td>7.0</td>\n",
       "      <td>12.0</td>\n",
       "      <td>20.0</td>\n",
       "      <td>18.0</td>\n",
       "      <td>20.0</td>\n",
       "      <td>9.0</td>\n",
       "    </tr>\n",
       "    <tr>\n",
       "      <th>Cyprus</th>\n",
       "      <td>5.0</td>\n",
       "      <td>27.0</td>\n",
       "      <td>15.0</td>\n",
       "      <td>9.0</td>\n",
       "      <td>25.0</td>\n",
       "      <td>4.0</td>\n",
       "    </tr>\n",
       "    <tr>\n",
       "      <th>Denmark</th>\n",
       "      <td>4.0</td>\n",
       "      <td>17.0</td>\n",
       "      <td>26.0</td>\n",
       "      <td>16.0</td>\n",
       "      <td>18.0</td>\n",
       "      <td>7.0</td>\n",
       "    </tr>\n",
       "    <tr>\n",
       "      <th>Croatia</th>\n",
       "      <td>15.0</td>\n",
       "      <td>20.0</td>\n",
       "      <td>3.0</td>\n",
       "      <td>10.0</td>\n",
       "      <td>5.0</td>\n",
       "      <td>23.0</td>\n",
       "    </tr>\n",
       "    <tr>\n",
       "      <th>Hungary</th>\n",
       "      <td>6.0</td>\n",
       "      <td>2.0</td>\n",
       "      <td>5.0</td>\n",
       "      <td>24.0</td>\n",
       "      <td>6.0</td>\n",
       "      <td>24.0</td>\n",
       "    </tr>\n",
       "    <tr>\n",
       "      <th>Luxembourg</th>\n",
       "      <td>14.0</td>\n",
       "      <td>10.0</td>\n",
       "      <td>28.0</td>\n",
       "      <td>14.0</td>\n",
       "      <td>27.0</td>\n",
       "      <td>1.0</td>\n",
       "    </tr>\n",
       "    <tr>\n",
       "      <th>Finland</th>\n",
       "      <td>28.0</td>\n",
       "      <td>18.0</td>\n",
       "      <td>23.0</td>\n",
       "      <td>8.0</td>\n",
       "      <td>13.0</td>\n",
       "      <td>11.0</td>\n",
       "    </tr>\n",
       "    <tr>\n",
       "      <th>Italy</th>\n",
       "      <td>12.0</td>\n",
       "      <td>23.0</td>\n",
       "      <td>17.0</td>\n",
       "      <td>3.0</td>\n",
       "      <td>4.0</td>\n",
       "      <td>18.0</td>\n",
       "    </tr>\n",
       "    <tr>\n",
       "      <th>Slovenia</th>\n",
       "      <td>26.0</td>\n",
       "      <td>22.0</td>\n",
       "      <td>13.0</td>\n",
       "      <td>22.0</td>\n",
       "      <td>23.0</td>\n",
       "      <td>6.0</td>\n",
       "    </tr>\n",
       "    <tr>\n",
       "      <th>Poland</th>\n",
       "      <td>10.0</td>\n",
       "      <td>1.0</td>\n",
       "      <td>4.0</td>\n",
       "      <td>27.0</td>\n",
       "      <td>8.0</td>\n",
       "      <td>21.0</td>\n",
       "    </tr>\n",
       "    <tr>\n",
       "      <th>Germany</th>\n",
       "      <td>13.0</td>\n",
       "      <td>14.0</td>\n",
       "      <td>21.0</td>\n",
       "      <td>25.0</td>\n",
       "      <td>10.0</td>\n",
       "      <td>10.0</td>\n",
       "    </tr>\n",
       "    <tr>\n",
       "      <th>Spain</th>\n",
       "      <td>21.0</td>\n",
       "      <td>24.0</td>\n",
       "      <td>14.0</td>\n",
       "      <td>2.0</td>\n",
       "      <td>21.0</td>\n",
       "      <td>14.0</td>\n",
       "    </tr>\n",
       "    <tr>\n",
       "      <th>Sweden</th>\n",
       "      <td>27.0</td>\n",
       "      <td>15.0</td>\n",
       "      <td>24.0</td>\n",
       "      <td>5.0</td>\n",
       "      <td>24.0</td>\n",
       "      <td>3.0</td>\n",
       "    </tr>\n",
       "    <tr>\n",
       "      <th>Romania</th>\n",
       "      <td>8.0</td>\n",
       "      <td>4.0</td>\n",
       "      <td>2.0</td>\n",
       "      <td>21.0</td>\n",
       "      <td>3.0</td>\n",
       "      <td>19.0</td>\n",
       "    </tr>\n",
       "    <tr>\n",
       "      <th>Estonia</th>\n",
       "      <td>25.0</td>\n",
       "      <td>26.0</td>\n",
       "      <td>12.0</td>\n",
       "      <td>11.0</td>\n",
       "      <td>15.0</td>\n",
       "      <td>25.0</td>\n",
       "    </tr>\n",
       "    <tr>\n",
       "      <th>Austria</th>\n",
       "      <td>23.0</td>\n",
       "      <td>7.0</td>\n",
       "      <td>22.0</td>\n",
       "      <td>19.0</td>\n",
       "      <td>19.0</td>\n",
       "      <td>12.0</td>\n",
       "    </tr>\n",
       "    <tr>\n",
       "      <th>Latvia</th>\n",
       "      <td>24.0</td>\n",
       "      <td>19.0</td>\n",
       "      <td>7.0</td>\n",
       "      <td>6.0</td>\n",
       "      <td>1.0</td>\n",
       "      <td>28.0</td>\n",
       "    </tr>\n",
       "    <tr>\n",
       "      <th>Bulgaria</th>\n",
       "      <td>19.0</td>\n",
       "      <td>6.0</td>\n",
       "      <td>1.0</td>\n",
       "      <td>20.0</td>\n",
       "      <td>2.0</td>\n",
       "      <td>20.0</td>\n",
       "    </tr>\n",
       "    <tr>\n",
       "      <th>Slovak Republic</th>\n",
       "      <td>22.0</td>\n",
       "      <td>5.0</td>\n",
       "      <td>8.0</td>\n",
       "      <td>15.0</td>\n",
       "      <td>11.0</td>\n",
       "      <td>17.0</td>\n",
       "    </tr>\n",
       "    <tr>\n",
       "      <th>Lithuania</th>\n",
       "      <td>18.0</td>\n",
       "      <td>9.0</td>\n",
       "      <td>9.0</td>\n",
       "      <td>4.0</td>\n",
       "      <td>9.0</td>\n",
       "      <td>27.0</td>\n",
       "    </tr>\n",
       "    <tr>\n",
       "      <th>Benchmark</th>\n",
       "      <td>17.0</td>\n",
       "      <td>11.0</td>\n",
       "      <td>18.0</td>\n",
       "      <td>13.0</td>\n",
       "      <td>17.0</td>\n",
       "      <td>16.0</td>\n",
       "    </tr>\n",
       "  </tbody>\n",
       "</table>\n",
       "</div>"
      ],
      "text/plain": [
       "                 Forest Area  Inflation  GDP per capita  Unemployment  \\\n",
       "Country                                                                 \n",
       "Malta                    1.0       13.0            16.0          23.0   \n",
       "France                  11.0       16.0            19.0           7.0   \n",
       "Netherlands              2.0        8.0            25.0          26.0   \n",
       "Ireland                  3.0       25.0            27.0          17.0   \n",
       "Portugal                20.0       21.0            10.0          12.0   \n",
       "Greece                   9.0       28.0             6.0           1.0   \n",
       "Czechia                 16.0        3.0            11.0          28.0   \n",
       "Belgium                  7.0       12.0            20.0          18.0   \n",
       "Cyprus                   5.0       27.0            15.0           9.0   \n",
       "Denmark                  4.0       17.0            26.0          16.0   \n",
       "Croatia                 15.0       20.0             3.0          10.0   \n",
       "Hungary                  6.0        2.0             5.0          24.0   \n",
       "Luxembourg              14.0       10.0            28.0          14.0   \n",
       "Finland                 28.0       18.0            23.0           8.0   \n",
       "Italy                   12.0       23.0            17.0           3.0   \n",
       "Slovenia                26.0       22.0            13.0          22.0   \n",
       "Poland                  10.0        1.0             4.0          27.0   \n",
       "Germany                 13.0       14.0            21.0          25.0   \n",
       "Spain                   21.0       24.0            14.0           2.0   \n",
       "Sweden                  27.0       15.0            24.0           5.0   \n",
       "Romania                  8.0        4.0             2.0          21.0   \n",
       "Estonia                 25.0       26.0            12.0          11.0   \n",
       "Austria                 23.0        7.0            22.0          19.0   \n",
       "Latvia                  24.0       19.0             7.0           6.0   \n",
       "Bulgaria                19.0        6.0             1.0          20.0   \n",
       "Slovak Republic         22.0        5.0             8.0          15.0   \n",
       "Lithuania               18.0        9.0             9.0           4.0   \n",
       "Benchmark               17.0       11.0            18.0          13.0   \n",
       "\n",
       "                 Population Growth  Population female prct  \n",
       "Country                                                     \n",
       "Malta                         28.0                     2.0  \n",
       "France                        14.0                    22.0  \n",
       "Netherlands                   22.0                     5.0  \n",
       "Ireland                       26.0                     8.0  \n",
       "Portugal                      12.0                    26.0  \n",
       "Greece                         7.0                    15.0  \n",
       "Czechia                       16.0                    13.0  \n",
       "Belgium                       20.0                     9.0  \n",
       "Cyprus                        25.0                     4.0  \n",
       "Denmark                       18.0                     7.0  \n",
       "Croatia                        5.0                    23.0  \n",
       "Hungary                        6.0                    24.0  \n",
       "Luxembourg                    27.0                     1.0  \n",
       "Finland                       13.0                    11.0  \n",
       "Italy                          4.0                    18.0  \n",
       "Slovenia                      23.0                     6.0  \n",
       "Poland                         8.0                    21.0  \n",
       "Germany                       10.0                    10.0  \n",
       "Spain                         21.0                    14.0  \n",
       "Sweden                        24.0                     3.0  \n",
       "Romania                        3.0                    19.0  \n",
       "Estonia                       15.0                    25.0  \n",
       "Austria                       19.0                    12.0  \n",
       "Latvia                         1.0                    28.0  \n",
       "Bulgaria                       2.0                    20.0  \n",
       "Slovak Republic               11.0                    17.0  \n",
       "Lithuania                      9.0                    27.0  \n",
       "Benchmark                     17.0                    16.0  "
      ]
     },
     "execution_count": 66,
     "metadata": {},
     "output_type": "execute_result"
    }
   ],
   "source": [
    "ranked_df = (benchmark_df*weights).rank(method='first')\n",
    "ranked_df"
   ]
  },
  {
   "cell_type": "code",
   "execution_count": 70,
   "metadata": {},
   "outputs": [
    {
     "data": {
      "text/html": [
       "<div>\n",
       "<style scoped>\n",
       "    .dataframe tbody tr th:only-of-type {\n",
       "        vertical-align: middle;\n",
       "    }\n",
       "\n",
       "    .dataframe tbody tr th {\n",
       "        vertical-align: top;\n",
       "    }\n",
       "\n",
       "    .dataframe thead th {\n",
       "        text-align: right;\n",
       "    }\n",
       "</style>\n",
       "<table border=\"1\" class=\"dataframe\">\n",
       "  <thead>\n",
       "    <tr style=\"text-align: right;\">\n",
       "      <th></th>\n",
       "      <th>Forest Area</th>\n",
       "      <th>Inflation</th>\n",
       "      <th>GDP per capita</th>\n",
       "      <th>Unemployment</th>\n",
       "      <th>Population Growth</th>\n",
       "      <th>Population female prct</th>\n",
       "      <th>additive</th>\n",
       "      <th>multiplicative</th>\n",
       "    </tr>\n",
       "    <tr>\n",
       "      <th>Country</th>\n",
       "      <th></th>\n",
       "      <th></th>\n",
       "      <th></th>\n",
       "      <th></th>\n",
       "      <th></th>\n",
       "      <th></th>\n",
       "      <th></th>\n",
       "      <th></th>\n",
       "    </tr>\n",
       "  </thead>\n",
       "  <tbody>\n",
       "    <tr>\n",
       "      <th>Luxembourg</th>\n",
       "      <td>14.0</td>\n",
       "      <td>10.0</td>\n",
       "      <td>28.0</td>\n",
       "      <td>14.0</td>\n",
       "      <td>27.0</td>\n",
       "      <td>1.0</td>\n",
       "      <td>20.0</td>\n",
       "      <td>12.0</td>\n",
       "    </tr>\n",
       "  </tbody>\n",
       "</table>\n",
       "</div>"
      ],
      "text/plain": [
       "            Forest Area  Inflation  GDP per capita  Unemployment  \\\n",
       "Country                                                            \n",
       "Luxembourg         14.0       10.0            28.0          14.0   \n",
       "\n",
       "            Population Growth  Population female prct  additive  \\\n",
       "Country                                                           \n",
       "Luxembourg               27.0                     1.0      20.0   \n",
       "\n",
       "            multiplicative  \n",
       "Country                     \n",
       "Luxembourg            12.0  "
      ]
     },
     "execution_count": 70,
     "metadata": {},
     "output_type": "execute_result"
    }
   ],
   "source": [
    "score = 'additive'\n",
    "\n",
    "ranked_df['additive'] = ranked_df[df.columns].sum(axis=1).rank(method='first')\n",
    "ranked_df['multiplicative'] = ranked_df[df.columns].prod(axis=1).rank(method='first')\n",
    "ranked_df[ranked_df.index == 'Luxembourg']"
   ]
  },
  {
   "cell_type": "code",
   "execution_count": 68,
   "metadata": {},
   "outputs": [
    {
     "data": {
      "application/vnd.plotly.v1+json": {
       "config": {
        "plotlyServerURL": "https://plot.ly"
       },
       "data": [
        {
         "hovertemplate": "Country=Malta<br>additive=%{x}<br>multiplicative=%{y}<extra></extra>",
         "legendgroup": "Malta",
         "marker": {
          "color": "#636efa",
          "symbol": "circle"
         },
         "mode": "markers",
         "name": "Malta",
         "orientation": "v",
         "showlegend": true,
         "type": "scatter",
         "x": [
          10
         ],
         "xaxis": "x",
         "y": [
          6
         ],
         "yaxis": "y"
        },
        {
         "hovertemplate": "Country=France<br>additive=%{x}<br>multiplicative=%{y}<extra></extra>",
         "legendgroup": "France",
         "marker": {
          "color": "#EF553B",
          "symbol": "circle"
         },
         "mode": "markers",
         "name": "France",
         "orientation": "v",
         "showlegend": true,
         "type": "scatter",
         "x": [
          17
         ],
         "xaxis": "x",
         "y": [
          21
         ],
         "yaxis": "y"
        },
        {
         "hovertemplate": "Country=Netherlands<br>additive=%{x}<br>multiplicative=%{y}<extra></extra>",
         "legendgroup": "Netherlands",
         "marker": {
          "color": "#00cc96",
          "symbol": "circle"
         },
         "mode": "markers",
         "name": "Netherlands",
         "orientation": "v",
         "showlegend": true,
         "type": "scatter",
         "x": [
          15
         ],
         "xaxis": "x",
         "y": [
          10
         ],
         "yaxis": "y"
        },
        {
         "hovertemplate": "Country=Ireland<br>additive=%{x}<br>multiplicative=%{y}<extra></extra>",
         "legendgroup": "Ireland",
         "marker": {
          "color": "#ab63fa",
          "symbol": "circle"
         },
         "mode": "markers",
         "name": "Ireland",
         "orientation": "v",
         "showlegend": true,
         "type": "scatter",
         "x": [
          26
         ],
         "xaxis": "x",
         "y": [
          20
         ],
         "yaxis": "y"
        },
        {
         "hovertemplate": "Country=Portugal<br>additive=%{x}<br>multiplicative=%{y}<extra></extra>",
         "legendgroup": "Portugal",
         "marker": {
          "color": "#FFA15A",
          "symbol": "circle"
         },
         "mode": "markers",
         "name": "Portugal",
         "orientation": "v",
         "showlegend": true,
         "type": "scatter",
         "x": [
          23
         ],
         "xaxis": "x",
         "y": [
          26
         ],
         "yaxis": "y"
        },
        {
         "hovertemplate": "Country=Greece<br>additive=%{x}<br>multiplicative=%{y}<extra></extra>",
         "legendgroup": "Greece",
         "marker": {
          "color": "#19d3f3",
          "symbol": "circle"
         },
         "mode": "markers",
         "name": "Greece",
         "orientation": "v",
         "showlegend": true,
         "type": "scatter",
         "x": [
          2
         ],
         "xaxis": "x",
         "y": [
          3
         ],
         "yaxis": "y"
        },
        {
         "hovertemplate": "Country=Czechia<br>additive=%{x}<br>multiplicative=%{y}<extra></extra>",
         "legendgroup": "Czechia",
         "marker": {
          "color": "#FF6692",
          "symbol": "circle"
         },
         "mode": "markers",
         "name": "Czechia",
         "orientation": "v",
         "showlegend": true,
         "type": "scatter",
         "x": [
          14
         ],
         "xaxis": "x",
         "y": [
          15
         ],
         "yaxis": "y"
        },
        {
         "hovertemplate": "Country=Belgium<br>additive=%{x}<br>multiplicative=%{y}<extra></extra>",
         "legendgroup": "Belgium",
         "marker": {
          "color": "#B6E880",
          "symbol": "circle"
         },
         "mode": "markers",
         "name": "Belgium",
         "orientation": "v",
         "showlegend": true,
         "type": "scatter",
         "x": [
          13
         ],
         "xaxis": "x",
         "y": [
          19
         ],
         "yaxis": "y"
        },
        {
         "hovertemplate": "Country=Cyprus<br>additive=%{x}<br>multiplicative=%{y}<extra></extra>",
         "legendgroup": "Cyprus",
         "marker": {
          "color": "#FF97FF",
          "symbol": "circle"
         },
         "mode": "markers",
         "name": "Cyprus",
         "orientation": "v",
         "showlegend": true,
         "type": "scatter",
         "x": [
          11
         ],
         "xaxis": "x",
         "y": [
          13
         ],
         "yaxis": "y"
        },
        {
         "hovertemplate": "Country=Denmark<br>additive=%{x}<br>multiplicative=%{y}<extra></extra>",
         "legendgroup": "Denmark",
         "marker": {
          "color": "#FECB52",
          "symbol": "circle"
         },
         "mode": "markers",
         "name": "Denmark",
         "orientation": "v",
         "showlegend": true,
         "type": "scatter",
         "x": [
          16
         ],
         "xaxis": "x",
         "y": [
          17
         ],
         "yaxis": "y"
        },
        {
         "hovertemplate": "Country=Croatia<br>additive=%{x}<br>multiplicative=%{y}<extra></extra>",
         "legendgroup": "Croatia",
         "marker": {
          "color": "#636efa",
          "symbol": "circle"
         },
         "mode": "markers",
         "name": "Croatia",
         "orientation": "v",
         "showlegend": true,
         "type": "scatter",
         "x": [
          6
         ],
         "xaxis": "x",
         "y": [
          9
         ],
         "yaxis": "y"
        },
        {
         "hovertemplate": "Country=Hungary<br>additive=%{x}<br>multiplicative=%{y}<extra></extra>",
         "legendgroup": "Hungary",
         "marker": {
          "color": "#EF553B",
          "symbol": "circle"
         },
         "mode": "markers",
         "name": "Hungary",
         "orientation": "v",
         "showlegend": true,
         "type": "scatter",
         "x": [
          3
         ],
         "xaxis": "x",
         "y": [
          5
         ],
         "yaxis": "y"
        },
        {
         "hovertemplate": "Country=Luxembourg<br>additive=%{x}<br>multiplicative=%{y}<extra></extra>",
         "legendgroup": "Luxembourg",
         "marker": {
          "color": "#00cc96",
          "symbol": "circle"
         },
         "mode": "markers",
         "name": "Luxembourg",
         "orientation": "v",
         "showlegend": true,
         "type": "scatter",
         "x": [
          20
         ],
         "xaxis": "x",
         "y": [
          12
         ],
         "yaxis": "y"
        },
        {
         "hovertemplate": "Country=Finland<br>additive=%{x}<br>multiplicative=%{y}<extra></extra>",
         "legendgroup": "Finland",
         "marker": {
          "color": "#ab63fa",
          "symbol": "circle"
         },
         "mode": "markers",
         "name": "Finland",
         "orientation": "v",
         "showlegend": true,
         "type": "scatter",
         "x": [
          24
         ],
         "xaxis": "x",
         "y": [
          24
         ],
         "yaxis": "y"
        },
        {
         "hovertemplate": "Country=Italy<br>additive=%{x}<br>multiplicative=%{y}<extra></extra>",
         "legendgroup": "Italy",
         "marker": {
          "color": "#FFA15A",
          "symbol": "circle"
         },
         "mode": "markers",
         "name": "Italy",
         "orientation": "v",
         "showlegend": true,
         "type": "scatter",
         "x": [
          8
         ],
         "xaxis": "x",
         "y": [
          8
         ],
         "yaxis": "y"
        },
        {
         "hovertemplate": "Country=Slovenia<br>additive=%{x}<br>multiplicative=%{y}<extra></extra>",
         "legendgroup": "Slovenia",
         "marker": {
          "color": "#19d3f3",
          "symbol": "circle"
         },
         "mode": "markers",
         "name": "Slovenia",
         "orientation": "v",
         "showlegend": true,
         "type": "scatter",
         "x": [
          27
         ],
         "xaxis": "x",
         "y": [
          27
         ],
         "yaxis": "y"
        },
        {
         "hovertemplate": "Country=Poland<br>additive=%{x}<br>multiplicative=%{y}<extra></extra>",
         "legendgroup": "Poland",
         "marker": {
          "color": "#FF6692",
          "symbol": "circle"
         },
         "mode": "markers",
         "name": "Poland",
         "orientation": "v",
         "showlegend": true,
         "type": "scatter",
         "x": [
          5
         ],
         "xaxis": "x",
         "y": [
          4
         ],
         "yaxis": "y"
        },
        {
         "hovertemplate": "Country=Germany<br>additive=%{x}<br>multiplicative=%{y}<extra></extra>",
         "legendgroup": "Germany",
         "marker": {
          "color": "#B6E880",
          "symbol": "circle"
         },
         "mode": "markers",
         "name": "Germany",
         "orientation": "v",
         "showlegend": true,
         "type": "scatter",
         "x": [
          19
         ],
         "xaxis": "x",
         "y": [
          22
         ],
         "yaxis": "y"
        },
        {
         "hovertemplate": "Country=Spain<br>additive=%{x}<br>multiplicative=%{y}<extra></extra>",
         "legendgroup": "Spain",
         "marker": {
          "color": "#FF97FF",
          "symbol": "circle"
         },
         "mode": "markers",
         "name": "Spain",
         "orientation": "v",
         "showlegend": true,
         "type": "scatter",
         "x": [
          21
         ],
         "xaxis": "x",
         "y": [
          18
         ],
         "yaxis": "y"
        },
        {
         "hovertemplate": "Country=Sweden<br>additive=%{x}<br>multiplicative=%{y}<extra></extra>",
         "legendgroup": "Sweden",
         "marker": {
          "color": "#FECB52",
          "symbol": "circle"
         },
         "mode": "markers",
         "name": "Sweden",
         "orientation": "v",
         "showlegend": true,
         "type": "scatter",
         "x": [
          22
         ],
         "xaxis": "x",
         "y": [
          16
         ],
         "yaxis": "y"
        },
        {
         "hovertemplate": "Country=Romania<br>additive=%{x}<br>multiplicative=%{y}<extra></extra>",
         "legendgroup": "Romania",
         "marker": {
          "color": "#636efa",
          "symbol": "circle"
         },
         "mode": "markers",
         "name": "Romania",
         "orientation": "v",
         "showlegend": true,
         "type": "scatter",
         "x": [
          1
         ],
         "xaxis": "x",
         "y": [
          1
         ],
         "yaxis": "y"
        },
        {
         "hovertemplate": "Country=Estonia<br>additive=%{x}<br>multiplicative=%{y}<extra></extra>",
         "legendgroup": "Estonia",
         "marker": {
          "color": "#EF553B",
          "symbol": "circle"
         },
         "mode": "markers",
         "name": "Estonia",
         "orientation": "v",
         "showlegend": true,
         "type": "scatter",
         "x": [
          28
         ],
         "xaxis": "x",
         "y": [
          28
         ],
         "yaxis": "y"
        },
        {
         "hovertemplate": "Country=Austria<br>additive=%{x}<br>multiplicative=%{y}<extra></extra>",
         "legendgroup": "Austria",
         "marker": {
          "color": "#00cc96",
          "symbol": "circle"
         },
         "mode": "markers",
         "name": "Austria",
         "orientation": "v",
         "showlegend": true,
         "type": "scatter",
         "x": [
          25
         ],
         "xaxis": "x",
         "y": [
          25
         ],
         "yaxis": "y"
        },
        {
         "hovertemplate": "Country=Latvia<br>additive=%{x}<br>multiplicative=%{y}<extra></extra>",
         "legendgroup": "Latvia",
         "marker": {
          "color": "#ab63fa",
          "symbol": "circle"
         },
         "mode": "markers",
         "name": "Latvia",
         "orientation": "v",
         "showlegend": true,
         "type": "scatter",
         "x": [
          12
         ],
         "xaxis": "x",
         "y": [
          7
         ],
         "yaxis": "y"
        },
        {
         "hovertemplate": "Country=Bulgaria<br>additive=%{x}<br>multiplicative=%{y}<extra></extra>",
         "legendgroup": "Bulgaria",
         "marker": {
          "color": "#FFA15A",
          "symbol": "circle"
         },
         "mode": "markers",
         "name": "Bulgaria",
         "orientation": "v",
         "showlegend": true,
         "type": "scatter",
         "x": [
          4
         ],
         "xaxis": "x",
         "y": [
          2
         ],
         "yaxis": "y"
        },
        {
         "hovertemplate": "Country=Slovak Republic<br>additive=%{x}<br>multiplicative=%{y}<extra></extra>",
         "legendgroup": "Slovak Republic",
         "marker": {
          "color": "#19d3f3",
          "symbol": "circle"
         },
         "mode": "markers",
         "name": "Slovak Republic",
         "orientation": "v",
         "showlegend": true,
         "type": "scatter",
         "x": [
          9
         ],
         "xaxis": "x",
         "y": [
          14
         ],
         "yaxis": "y"
        },
        {
         "hovertemplate": "Country=Lithuania<br>additive=%{x}<br>multiplicative=%{y}<extra></extra>",
         "legendgroup": "Lithuania",
         "marker": {
          "color": "#FF6692",
          "symbol": "circle"
         },
         "mode": "markers",
         "name": "Lithuania",
         "orientation": "v",
         "showlegend": true,
         "type": "scatter",
         "x": [
          7
         ],
         "xaxis": "x",
         "y": [
          11
         ],
         "yaxis": "y"
        },
        {
         "hovertemplate": "Country=Benchmark<br>additive=%{x}<br>multiplicative=%{y}<extra></extra>",
         "legendgroup": "Benchmark",
         "marker": {
          "color": "#B6E880",
          "symbol": "circle"
         },
         "mode": "markers",
         "name": "Benchmark",
         "orientation": "v",
         "showlegend": true,
         "type": "scatter",
         "x": [
          18
         ],
         "xaxis": "x",
         "y": [
          23
         ],
         "yaxis": "y"
        }
       ],
       "layout": {
        "legend": {
         "title": {
          "text": "Country"
         },
         "tracegroupgap": 0
        },
        "margin": {
         "t": 60
        },
        "template": {
         "data": {
          "bar": [
           {
            "error_x": {
             "color": "#2a3f5f"
            },
            "error_y": {
             "color": "#2a3f5f"
            },
            "marker": {
             "line": {
              "color": "#E5ECF6",
              "width": 0.5
             },
             "pattern": {
              "fillmode": "overlay",
              "size": 10,
              "solidity": 0.2
             }
            },
            "type": "bar"
           }
          ],
          "barpolar": [
           {
            "marker": {
             "line": {
              "color": "#E5ECF6",
              "width": 0.5
             },
             "pattern": {
              "fillmode": "overlay",
              "size": 10,
              "solidity": 0.2
             }
            },
            "type": "barpolar"
           }
          ],
          "carpet": [
           {
            "aaxis": {
             "endlinecolor": "#2a3f5f",
             "gridcolor": "white",
             "linecolor": "white",
             "minorgridcolor": "white",
             "startlinecolor": "#2a3f5f"
            },
            "baxis": {
             "endlinecolor": "#2a3f5f",
             "gridcolor": "white",
             "linecolor": "white",
             "minorgridcolor": "white",
             "startlinecolor": "#2a3f5f"
            },
            "type": "carpet"
           }
          ],
          "choropleth": [
           {
            "colorbar": {
             "outlinewidth": 0,
             "ticks": ""
            },
            "type": "choropleth"
           }
          ],
          "contour": [
           {
            "colorbar": {
             "outlinewidth": 0,
             "ticks": ""
            },
            "colorscale": [
             [
              0,
              "#0d0887"
             ],
             [
              0.1111111111111111,
              "#46039f"
             ],
             [
              0.2222222222222222,
              "#7201a8"
             ],
             [
              0.3333333333333333,
              "#9c179e"
             ],
             [
              0.4444444444444444,
              "#bd3786"
             ],
             [
              0.5555555555555556,
              "#d8576b"
             ],
             [
              0.6666666666666666,
              "#ed7953"
             ],
             [
              0.7777777777777778,
              "#fb9f3a"
             ],
             [
              0.8888888888888888,
              "#fdca26"
             ],
             [
              1,
              "#f0f921"
             ]
            ],
            "type": "contour"
           }
          ],
          "contourcarpet": [
           {
            "colorbar": {
             "outlinewidth": 0,
             "ticks": ""
            },
            "type": "contourcarpet"
           }
          ],
          "heatmap": [
           {
            "colorbar": {
             "outlinewidth": 0,
             "ticks": ""
            },
            "colorscale": [
             [
              0,
              "#0d0887"
             ],
             [
              0.1111111111111111,
              "#46039f"
             ],
             [
              0.2222222222222222,
              "#7201a8"
             ],
             [
              0.3333333333333333,
              "#9c179e"
             ],
             [
              0.4444444444444444,
              "#bd3786"
             ],
             [
              0.5555555555555556,
              "#d8576b"
             ],
             [
              0.6666666666666666,
              "#ed7953"
             ],
             [
              0.7777777777777778,
              "#fb9f3a"
             ],
             [
              0.8888888888888888,
              "#fdca26"
             ],
             [
              1,
              "#f0f921"
             ]
            ],
            "type": "heatmap"
           }
          ],
          "heatmapgl": [
           {
            "colorbar": {
             "outlinewidth": 0,
             "ticks": ""
            },
            "colorscale": [
             [
              0,
              "#0d0887"
             ],
             [
              0.1111111111111111,
              "#46039f"
             ],
             [
              0.2222222222222222,
              "#7201a8"
             ],
             [
              0.3333333333333333,
              "#9c179e"
             ],
             [
              0.4444444444444444,
              "#bd3786"
             ],
             [
              0.5555555555555556,
              "#d8576b"
             ],
             [
              0.6666666666666666,
              "#ed7953"
             ],
             [
              0.7777777777777778,
              "#fb9f3a"
             ],
             [
              0.8888888888888888,
              "#fdca26"
             ],
             [
              1,
              "#f0f921"
             ]
            ],
            "type": "heatmapgl"
           }
          ],
          "histogram": [
           {
            "marker": {
             "pattern": {
              "fillmode": "overlay",
              "size": 10,
              "solidity": 0.2
             }
            },
            "type": "histogram"
           }
          ],
          "histogram2d": [
           {
            "colorbar": {
             "outlinewidth": 0,
             "ticks": ""
            },
            "colorscale": [
             [
              0,
              "#0d0887"
             ],
             [
              0.1111111111111111,
              "#46039f"
             ],
             [
              0.2222222222222222,
              "#7201a8"
             ],
             [
              0.3333333333333333,
              "#9c179e"
             ],
             [
              0.4444444444444444,
              "#bd3786"
             ],
             [
              0.5555555555555556,
              "#d8576b"
             ],
             [
              0.6666666666666666,
              "#ed7953"
             ],
             [
              0.7777777777777778,
              "#fb9f3a"
             ],
             [
              0.8888888888888888,
              "#fdca26"
             ],
             [
              1,
              "#f0f921"
             ]
            ],
            "type": "histogram2d"
           }
          ],
          "histogram2dcontour": [
           {
            "colorbar": {
             "outlinewidth": 0,
             "ticks": ""
            },
            "colorscale": [
             [
              0,
              "#0d0887"
             ],
             [
              0.1111111111111111,
              "#46039f"
             ],
             [
              0.2222222222222222,
              "#7201a8"
             ],
             [
              0.3333333333333333,
              "#9c179e"
             ],
             [
              0.4444444444444444,
              "#bd3786"
             ],
             [
              0.5555555555555556,
              "#d8576b"
             ],
             [
              0.6666666666666666,
              "#ed7953"
             ],
             [
              0.7777777777777778,
              "#fb9f3a"
             ],
             [
              0.8888888888888888,
              "#fdca26"
             ],
             [
              1,
              "#f0f921"
             ]
            ],
            "type": "histogram2dcontour"
           }
          ],
          "mesh3d": [
           {
            "colorbar": {
             "outlinewidth": 0,
             "ticks": ""
            },
            "type": "mesh3d"
           }
          ],
          "parcoords": [
           {
            "line": {
             "colorbar": {
              "outlinewidth": 0,
              "ticks": ""
             }
            },
            "type": "parcoords"
           }
          ],
          "pie": [
           {
            "automargin": true,
            "type": "pie"
           }
          ],
          "scatter": [
           {
            "fillpattern": {
             "fillmode": "overlay",
             "size": 10,
             "solidity": 0.2
            },
            "type": "scatter"
           }
          ],
          "scatter3d": [
           {
            "line": {
             "colorbar": {
              "outlinewidth": 0,
              "ticks": ""
             }
            },
            "marker": {
             "colorbar": {
              "outlinewidth": 0,
              "ticks": ""
             }
            },
            "type": "scatter3d"
           }
          ],
          "scattercarpet": [
           {
            "marker": {
             "colorbar": {
              "outlinewidth": 0,
              "ticks": ""
             }
            },
            "type": "scattercarpet"
           }
          ],
          "scattergeo": [
           {
            "marker": {
             "colorbar": {
              "outlinewidth": 0,
              "ticks": ""
             }
            },
            "type": "scattergeo"
           }
          ],
          "scattergl": [
           {
            "marker": {
             "colorbar": {
              "outlinewidth": 0,
              "ticks": ""
             }
            },
            "type": "scattergl"
           }
          ],
          "scattermapbox": [
           {
            "marker": {
             "colorbar": {
              "outlinewidth": 0,
              "ticks": ""
             }
            },
            "type": "scattermapbox"
           }
          ],
          "scatterpolar": [
           {
            "marker": {
             "colorbar": {
              "outlinewidth": 0,
              "ticks": ""
             }
            },
            "type": "scatterpolar"
           }
          ],
          "scatterpolargl": [
           {
            "marker": {
             "colorbar": {
              "outlinewidth": 0,
              "ticks": ""
             }
            },
            "type": "scatterpolargl"
           }
          ],
          "scatterternary": [
           {
            "marker": {
             "colorbar": {
              "outlinewidth": 0,
              "ticks": ""
             }
            },
            "type": "scatterternary"
           }
          ],
          "surface": [
           {
            "colorbar": {
             "outlinewidth": 0,
             "ticks": ""
            },
            "colorscale": [
             [
              0,
              "#0d0887"
             ],
             [
              0.1111111111111111,
              "#46039f"
             ],
             [
              0.2222222222222222,
              "#7201a8"
             ],
             [
              0.3333333333333333,
              "#9c179e"
             ],
             [
              0.4444444444444444,
              "#bd3786"
             ],
             [
              0.5555555555555556,
              "#d8576b"
             ],
             [
              0.6666666666666666,
              "#ed7953"
             ],
             [
              0.7777777777777778,
              "#fb9f3a"
             ],
             [
              0.8888888888888888,
              "#fdca26"
             ],
             [
              1,
              "#f0f921"
             ]
            ],
            "type": "surface"
           }
          ],
          "table": [
           {
            "cells": {
             "fill": {
              "color": "#EBF0F8"
             },
             "line": {
              "color": "white"
             }
            },
            "header": {
             "fill": {
              "color": "#C8D4E3"
             },
             "line": {
              "color": "white"
             }
            },
            "type": "table"
           }
          ]
         },
         "layout": {
          "annotationdefaults": {
           "arrowcolor": "#2a3f5f",
           "arrowhead": 0,
           "arrowwidth": 1
          },
          "autotypenumbers": "strict",
          "coloraxis": {
           "colorbar": {
            "outlinewidth": 0,
            "ticks": ""
           }
          },
          "colorscale": {
           "diverging": [
            [
             0,
             "#8e0152"
            ],
            [
             0.1,
             "#c51b7d"
            ],
            [
             0.2,
             "#de77ae"
            ],
            [
             0.3,
             "#f1b6da"
            ],
            [
             0.4,
             "#fde0ef"
            ],
            [
             0.5,
             "#f7f7f7"
            ],
            [
             0.6,
             "#e6f5d0"
            ],
            [
             0.7,
             "#b8e186"
            ],
            [
             0.8,
             "#7fbc41"
            ],
            [
             0.9,
             "#4d9221"
            ],
            [
             1,
             "#276419"
            ]
           ],
           "sequential": [
            [
             0,
             "#0d0887"
            ],
            [
             0.1111111111111111,
             "#46039f"
            ],
            [
             0.2222222222222222,
             "#7201a8"
            ],
            [
             0.3333333333333333,
             "#9c179e"
            ],
            [
             0.4444444444444444,
             "#bd3786"
            ],
            [
             0.5555555555555556,
             "#d8576b"
            ],
            [
             0.6666666666666666,
             "#ed7953"
            ],
            [
             0.7777777777777778,
             "#fb9f3a"
            ],
            [
             0.8888888888888888,
             "#fdca26"
            ],
            [
             1,
             "#f0f921"
            ]
           ],
           "sequentialminus": [
            [
             0,
             "#0d0887"
            ],
            [
             0.1111111111111111,
             "#46039f"
            ],
            [
             0.2222222222222222,
             "#7201a8"
            ],
            [
             0.3333333333333333,
             "#9c179e"
            ],
            [
             0.4444444444444444,
             "#bd3786"
            ],
            [
             0.5555555555555556,
             "#d8576b"
            ],
            [
             0.6666666666666666,
             "#ed7953"
            ],
            [
             0.7777777777777778,
             "#fb9f3a"
            ],
            [
             0.8888888888888888,
             "#fdca26"
            ],
            [
             1,
             "#f0f921"
            ]
           ]
          },
          "colorway": [
           "#636efa",
           "#EF553B",
           "#00cc96",
           "#ab63fa",
           "#FFA15A",
           "#19d3f3",
           "#FF6692",
           "#B6E880",
           "#FF97FF",
           "#FECB52"
          ],
          "font": {
           "color": "#2a3f5f"
          },
          "geo": {
           "bgcolor": "white",
           "lakecolor": "white",
           "landcolor": "#E5ECF6",
           "showlakes": true,
           "showland": true,
           "subunitcolor": "white"
          },
          "hoverlabel": {
           "align": "left"
          },
          "hovermode": "closest",
          "mapbox": {
           "style": "light"
          },
          "paper_bgcolor": "white",
          "plot_bgcolor": "#E5ECF6",
          "polar": {
           "angularaxis": {
            "gridcolor": "white",
            "linecolor": "white",
            "ticks": ""
           },
           "bgcolor": "#E5ECF6",
           "radialaxis": {
            "gridcolor": "white",
            "linecolor": "white",
            "ticks": ""
           }
          },
          "scene": {
           "xaxis": {
            "backgroundcolor": "#E5ECF6",
            "gridcolor": "white",
            "gridwidth": 2,
            "linecolor": "white",
            "showbackground": true,
            "ticks": "",
            "zerolinecolor": "white"
           },
           "yaxis": {
            "backgroundcolor": "#E5ECF6",
            "gridcolor": "white",
            "gridwidth": 2,
            "linecolor": "white",
            "showbackground": true,
            "ticks": "",
            "zerolinecolor": "white"
           },
           "zaxis": {
            "backgroundcolor": "#E5ECF6",
            "gridcolor": "white",
            "gridwidth": 2,
            "linecolor": "white",
            "showbackground": true,
            "ticks": "",
            "zerolinecolor": "white"
           }
          },
          "shapedefaults": {
           "line": {
            "color": "#2a3f5f"
           }
          },
          "ternary": {
           "aaxis": {
            "gridcolor": "white",
            "linecolor": "white",
            "ticks": ""
           },
           "baxis": {
            "gridcolor": "white",
            "linecolor": "white",
            "ticks": ""
           },
           "bgcolor": "#E5ECF6",
           "caxis": {
            "gridcolor": "white",
            "linecolor": "white",
            "ticks": ""
           }
          },
          "title": {
           "x": 0.05
          },
          "xaxis": {
           "automargin": true,
           "gridcolor": "white",
           "linecolor": "white",
           "ticks": "",
           "title": {
            "standoff": 15
           },
           "zerolinecolor": "white",
           "zerolinewidth": 2
          },
          "yaxis": {
           "automargin": true,
           "gridcolor": "white",
           "linecolor": "white",
           "ticks": "",
           "title": {
            "standoff": 15
           },
           "zerolinecolor": "white",
           "zerolinewidth": 2
          }
         }
        },
        "xaxis": {
         "anchor": "y",
         "domain": [
          0,
          1
         ],
         "title": {
          "text": "additive"
         }
        },
        "yaxis": {
         "anchor": "x",
         "domain": [
          0,
          1
         ],
         "title": {
          "text": "multiplicative"
         }
        }
       }
      }
     },
     "metadata": {},
     "output_type": "display_data"
    }
   ],
   "source": [
    "px.scatter(ranked_df.reset_index(drop=False), x='additive', y='multiplicative', color='Country')"
   ]
  },
  {
   "cell_type": "code",
   "execution_count": 72,
   "metadata": {},
   "outputs": [
    {
     "data": {
      "text/html": [
       "<div>\n",
       "<style scoped>\n",
       "    .dataframe tbody tr th:only-of-type {\n",
       "        vertical-align: middle;\n",
       "    }\n",
       "\n",
       "    .dataframe tbody tr th {\n",
       "        vertical-align: top;\n",
       "    }\n",
       "\n",
       "    .dataframe thead th {\n",
       "        text-align: right;\n",
       "    }\n",
       "</style>\n",
       "<table border=\"1\" class=\"dataframe\">\n",
       "  <thead>\n",
       "    <tr style=\"text-align: right;\">\n",
       "      <th></th>\n",
       "      <th>Forest Area</th>\n",
       "      <th>Inflation</th>\n",
       "      <th>GDP per capita</th>\n",
       "      <th>Unemployment</th>\n",
       "      <th>Population Growth</th>\n",
       "      <th>Population female prct</th>\n",
       "      <th>additive</th>\n",
       "      <th>multiplicative</th>\n",
       "    </tr>\n",
       "    <tr>\n",
       "      <th>Country</th>\n",
       "      <th></th>\n",
       "      <th></th>\n",
       "      <th></th>\n",
       "      <th></th>\n",
       "      <th></th>\n",
       "      <th></th>\n",
       "      <th></th>\n",
       "      <th></th>\n",
       "    </tr>\n",
       "  </thead>\n",
       "  <tbody>\n",
       "    <tr>\n",
       "      <th>Estonia</th>\n",
       "      <td>25.0</td>\n",
       "      <td>26.0</td>\n",
       "      <td>12.0</td>\n",
       "      <td>11.0</td>\n",
       "      <td>15.0</td>\n",
       "      <td>25.0</td>\n",
       "      <td>28.0</td>\n",
       "      <td>28.0</td>\n",
       "    </tr>\n",
       "    <tr>\n",
       "      <th>Slovenia</th>\n",
       "      <td>26.0</td>\n",
       "      <td>22.0</td>\n",
       "      <td>13.0</td>\n",
       "      <td>22.0</td>\n",
       "      <td>23.0</td>\n",
       "      <td>6.0</td>\n",
       "      <td>27.0</td>\n",
       "      <td>27.0</td>\n",
       "    </tr>\n",
       "    <tr>\n",
       "      <th>Ireland</th>\n",
       "      <td>3.0</td>\n",
       "      <td>25.0</td>\n",
       "      <td>27.0</td>\n",
       "      <td>17.0</td>\n",
       "      <td>26.0</td>\n",
       "      <td>8.0</td>\n",
       "      <td>26.0</td>\n",
       "      <td>20.0</td>\n",
       "    </tr>\n",
       "    <tr>\n",
       "      <th>Austria</th>\n",
       "      <td>23.0</td>\n",
       "      <td>7.0</td>\n",
       "      <td>22.0</td>\n",
       "      <td>19.0</td>\n",
       "      <td>19.0</td>\n",
       "      <td>12.0</td>\n",
       "      <td>25.0</td>\n",
       "      <td>25.0</td>\n",
       "    </tr>\n",
       "    <tr>\n",
       "      <th>Finland</th>\n",
       "      <td>28.0</td>\n",
       "      <td>18.0</td>\n",
       "      <td>23.0</td>\n",
       "      <td>8.0</td>\n",
       "      <td>13.0</td>\n",
       "      <td>11.0</td>\n",
       "      <td>24.0</td>\n",
       "      <td>24.0</td>\n",
       "    </tr>\n",
       "    <tr>\n",
       "      <th>Portugal</th>\n",
       "      <td>20.0</td>\n",
       "      <td>21.0</td>\n",
       "      <td>10.0</td>\n",
       "      <td>12.0</td>\n",
       "      <td>12.0</td>\n",
       "      <td>26.0</td>\n",
       "      <td>23.0</td>\n",
       "      <td>26.0</td>\n",
       "    </tr>\n",
       "    <tr>\n",
       "      <th>Sweden</th>\n",
       "      <td>27.0</td>\n",
       "      <td>15.0</td>\n",
       "      <td>24.0</td>\n",
       "      <td>5.0</td>\n",
       "      <td>24.0</td>\n",
       "      <td>3.0</td>\n",
       "      <td>22.0</td>\n",
       "      <td>16.0</td>\n",
       "    </tr>\n",
       "    <tr>\n",
       "      <th>Spain</th>\n",
       "      <td>21.0</td>\n",
       "      <td>24.0</td>\n",
       "      <td>14.0</td>\n",
       "      <td>2.0</td>\n",
       "      <td>21.0</td>\n",
       "      <td>14.0</td>\n",
       "      <td>21.0</td>\n",
       "      <td>18.0</td>\n",
       "    </tr>\n",
       "    <tr>\n",
       "      <th>Luxembourg</th>\n",
       "      <td>14.0</td>\n",
       "      <td>10.0</td>\n",
       "      <td>28.0</td>\n",
       "      <td>14.0</td>\n",
       "      <td>27.0</td>\n",
       "      <td>1.0</td>\n",
       "      <td>20.0</td>\n",
       "      <td>12.0</td>\n",
       "    </tr>\n",
       "    <tr>\n",
       "      <th>Germany</th>\n",
       "      <td>13.0</td>\n",
       "      <td>14.0</td>\n",
       "      <td>21.0</td>\n",
       "      <td>25.0</td>\n",
       "      <td>10.0</td>\n",
       "      <td>10.0</td>\n",
       "      <td>19.0</td>\n",
       "      <td>22.0</td>\n",
       "    </tr>\n",
       "    <tr>\n",
       "      <th>Benchmark</th>\n",
       "      <td>17.0</td>\n",
       "      <td>11.0</td>\n",
       "      <td>18.0</td>\n",
       "      <td>13.0</td>\n",
       "      <td>17.0</td>\n",
       "      <td>16.0</td>\n",
       "      <td>18.0</td>\n",
       "      <td>23.0</td>\n",
       "    </tr>\n",
       "    <tr>\n",
       "      <th>France</th>\n",
       "      <td>11.0</td>\n",
       "      <td>16.0</td>\n",
       "      <td>19.0</td>\n",
       "      <td>7.0</td>\n",
       "      <td>14.0</td>\n",
       "      <td>22.0</td>\n",
       "      <td>17.0</td>\n",
       "      <td>21.0</td>\n",
       "    </tr>\n",
       "    <tr>\n",
       "      <th>Denmark</th>\n",
       "      <td>4.0</td>\n",
       "      <td>17.0</td>\n",
       "      <td>26.0</td>\n",
       "      <td>16.0</td>\n",
       "      <td>18.0</td>\n",
       "      <td>7.0</td>\n",
       "      <td>16.0</td>\n",
       "      <td>17.0</td>\n",
       "    </tr>\n",
       "    <tr>\n",
       "      <th>Netherlands</th>\n",
       "      <td>2.0</td>\n",
       "      <td>8.0</td>\n",
       "      <td>25.0</td>\n",
       "      <td>26.0</td>\n",
       "      <td>22.0</td>\n",
       "      <td>5.0</td>\n",
       "      <td>15.0</td>\n",
       "      <td>10.0</td>\n",
       "    </tr>\n",
       "    <tr>\n",
       "      <th>Czechia</th>\n",
       "      <td>16.0</td>\n",
       "      <td>3.0</td>\n",
       "      <td>11.0</td>\n",
       "      <td>28.0</td>\n",
       "      <td>16.0</td>\n",
       "      <td>13.0</td>\n",
       "      <td>14.0</td>\n",
       "      <td>15.0</td>\n",
       "    </tr>\n",
       "    <tr>\n",
       "      <th>Belgium</th>\n",
       "      <td>7.0</td>\n",
       "      <td>12.0</td>\n",
       "      <td>20.0</td>\n",
       "      <td>18.0</td>\n",
       "      <td>20.0</td>\n",
       "      <td>9.0</td>\n",
       "      <td>13.0</td>\n",
       "      <td>19.0</td>\n",
       "    </tr>\n",
       "    <tr>\n",
       "      <th>Latvia</th>\n",
       "      <td>24.0</td>\n",
       "      <td>19.0</td>\n",
       "      <td>7.0</td>\n",
       "      <td>6.0</td>\n",
       "      <td>1.0</td>\n",
       "      <td>28.0</td>\n",
       "      <td>12.0</td>\n",
       "      <td>7.0</td>\n",
       "    </tr>\n",
       "    <tr>\n",
       "      <th>Cyprus</th>\n",
       "      <td>5.0</td>\n",
       "      <td>27.0</td>\n",
       "      <td>15.0</td>\n",
       "      <td>9.0</td>\n",
       "      <td>25.0</td>\n",
       "      <td>4.0</td>\n",
       "      <td>11.0</td>\n",
       "      <td>13.0</td>\n",
       "    </tr>\n",
       "    <tr>\n",
       "      <th>Malta</th>\n",
       "      <td>1.0</td>\n",
       "      <td>13.0</td>\n",
       "      <td>16.0</td>\n",
       "      <td>23.0</td>\n",
       "      <td>28.0</td>\n",
       "      <td>2.0</td>\n",
       "      <td>10.0</td>\n",
       "      <td>6.0</td>\n",
       "    </tr>\n",
       "    <tr>\n",
       "      <th>Slovak Republic</th>\n",
       "      <td>22.0</td>\n",
       "      <td>5.0</td>\n",
       "      <td>8.0</td>\n",
       "      <td>15.0</td>\n",
       "      <td>11.0</td>\n",
       "      <td>17.0</td>\n",
       "      <td>9.0</td>\n",
       "      <td>14.0</td>\n",
       "    </tr>\n",
       "    <tr>\n",
       "      <th>Italy</th>\n",
       "      <td>12.0</td>\n",
       "      <td>23.0</td>\n",
       "      <td>17.0</td>\n",
       "      <td>3.0</td>\n",
       "      <td>4.0</td>\n",
       "      <td>18.0</td>\n",
       "      <td>8.0</td>\n",
       "      <td>8.0</td>\n",
       "    </tr>\n",
       "    <tr>\n",
       "      <th>Lithuania</th>\n",
       "      <td>18.0</td>\n",
       "      <td>9.0</td>\n",
       "      <td>9.0</td>\n",
       "      <td>4.0</td>\n",
       "      <td>9.0</td>\n",
       "      <td>27.0</td>\n",
       "      <td>7.0</td>\n",
       "      <td>11.0</td>\n",
       "    </tr>\n",
       "    <tr>\n",
       "      <th>Croatia</th>\n",
       "      <td>15.0</td>\n",
       "      <td>20.0</td>\n",
       "      <td>3.0</td>\n",
       "      <td>10.0</td>\n",
       "      <td>5.0</td>\n",
       "      <td>23.0</td>\n",
       "      <td>6.0</td>\n",
       "      <td>9.0</td>\n",
       "    </tr>\n",
       "    <tr>\n",
       "      <th>Poland</th>\n",
       "      <td>10.0</td>\n",
       "      <td>1.0</td>\n",
       "      <td>4.0</td>\n",
       "      <td>27.0</td>\n",
       "      <td>8.0</td>\n",
       "      <td>21.0</td>\n",
       "      <td>5.0</td>\n",
       "      <td>4.0</td>\n",
       "    </tr>\n",
       "    <tr>\n",
       "      <th>Bulgaria</th>\n",
       "      <td>19.0</td>\n",
       "      <td>6.0</td>\n",
       "      <td>1.0</td>\n",
       "      <td>20.0</td>\n",
       "      <td>2.0</td>\n",
       "      <td>20.0</td>\n",
       "      <td>4.0</td>\n",
       "      <td>2.0</td>\n",
       "    </tr>\n",
       "    <tr>\n",
       "      <th>Hungary</th>\n",
       "      <td>6.0</td>\n",
       "      <td>2.0</td>\n",
       "      <td>5.0</td>\n",
       "      <td>24.0</td>\n",
       "      <td>6.0</td>\n",
       "      <td>24.0</td>\n",
       "      <td>3.0</td>\n",
       "      <td>5.0</td>\n",
       "    </tr>\n",
       "    <tr>\n",
       "      <th>Greece</th>\n",
       "      <td>9.0</td>\n",
       "      <td>28.0</td>\n",
       "      <td>6.0</td>\n",
       "      <td>1.0</td>\n",
       "      <td>7.0</td>\n",
       "      <td>15.0</td>\n",
       "      <td>2.0</td>\n",
       "      <td>3.0</td>\n",
       "    </tr>\n",
       "    <tr>\n",
       "      <th>Romania</th>\n",
       "      <td>8.0</td>\n",
       "      <td>4.0</td>\n",
       "      <td>2.0</td>\n",
       "      <td>21.0</td>\n",
       "      <td>3.0</td>\n",
       "      <td>19.0</td>\n",
       "      <td>1.0</td>\n",
       "      <td>1.0</td>\n",
       "    </tr>\n",
       "  </tbody>\n",
       "</table>\n",
       "</div>"
      ],
      "text/plain": [
       "                 Forest Area  Inflation  GDP per capita  Unemployment  \\\n",
       "Country                                                                 \n",
       "Estonia                 25.0       26.0            12.0          11.0   \n",
       "Slovenia                26.0       22.0            13.0          22.0   \n",
       "Ireland                  3.0       25.0            27.0          17.0   \n",
       "Austria                 23.0        7.0            22.0          19.0   \n",
       "Finland                 28.0       18.0            23.0           8.0   \n",
       "Portugal                20.0       21.0            10.0          12.0   \n",
       "Sweden                  27.0       15.0            24.0           5.0   \n",
       "Spain                   21.0       24.0            14.0           2.0   \n",
       "Luxembourg              14.0       10.0            28.0          14.0   \n",
       "Germany                 13.0       14.0            21.0          25.0   \n",
       "Benchmark               17.0       11.0            18.0          13.0   \n",
       "France                  11.0       16.0            19.0           7.0   \n",
       "Denmark                  4.0       17.0            26.0          16.0   \n",
       "Netherlands              2.0        8.0            25.0          26.0   \n",
       "Czechia                 16.0        3.0            11.0          28.0   \n",
       "Belgium                  7.0       12.0            20.0          18.0   \n",
       "Latvia                  24.0       19.0             7.0           6.0   \n",
       "Cyprus                   5.0       27.0            15.0           9.0   \n",
       "Malta                    1.0       13.0            16.0          23.0   \n",
       "Slovak Republic         22.0        5.0             8.0          15.0   \n",
       "Italy                   12.0       23.0            17.0           3.0   \n",
       "Lithuania               18.0        9.0             9.0           4.0   \n",
       "Croatia                 15.0       20.0             3.0          10.0   \n",
       "Poland                  10.0        1.0             4.0          27.0   \n",
       "Bulgaria                19.0        6.0             1.0          20.0   \n",
       "Hungary                  6.0        2.0             5.0          24.0   \n",
       "Greece                   9.0       28.0             6.0           1.0   \n",
       "Romania                  8.0        4.0             2.0          21.0   \n",
       "\n",
       "                 Population Growth  Population female prct  additive  \\\n",
       "Country                                                                \n",
       "Estonia                       15.0                    25.0      28.0   \n",
       "Slovenia                      23.0                     6.0      27.0   \n",
       "Ireland                       26.0                     8.0      26.0   \n",
       "Austria                       19.0                    12.0      25.0   \n",
       "Finland                       13.0                    11.0      24.0   \n",
       "Portugal                      12.0                    26.0      23.0   \n",
       "Sweden                        24.0                     3.0      22.0   \n",
       "Spain                         21.0                    14.0      21.0   \n",
       "Luxembourg                    27.0                     1.0      20.0   \n",
       "Germany                       10.0                    10.0      19.0   \n",
       "Benchmark                     17.0                    16.0      18.0   \n",
       "France                        14.0                    22.0      17.0   \n",
       "Denmark                       18.0                     7.0      16.0   \n",
       "Netherlands                   22.0                     5.0      15.0   \n",
       "Czechia                       16.0                    13.0      14.0   \n",
       "Belgium                       20.0                     9.0      13.0   \n",
       "Latvia                         1.0                    28.0      12.0   \n",
       "Cyprus                        25.0                     4.0      11.0   \n",
       "Malta                         28.0                     2.0      10.0   \n",
       "Slovak Republic               11.0                    17.0       9.0   \n",
       "Italy                          4.0                    18.0       8.0   \n",
       "Lithuania                      9.0                    27.0       7.0   \n",
       "Croatia                        5.0                    23.0       6.0   \n",
       "Poland                         8.0                    21.0       5.0   \n",
       "Bulgaria                       2.0                    20.0       4.0   \n",
       "Hungary                        6.0                    24.0       3.0   \n",
       "Greece                         7.0                    15.0       2.0   \n",
       "Romania                        3.0                    19.0       1.0   \n",
       "\n",
       "                 multiplicative  \n",
       "Country                          \n",
       "Estonia                    28.0  \n",
       "Slovenia                   27.0  \n",
       "Ireland                    20.0  \n",
       "Austria                    25.0  \n",
       "Finland                    24.0  \n",
       "Portugal                   26.0  \n",
       "Sweden                     16.0  \n",
       "Spain                      18.0  \n",
       "Luxembourg                 12.0  \n",
       "Germany                    22.0  \n",
       "Benchmark                  23.0  \n",
       "France                     21.0  \n",
       "Denmark                    17.0  \n",
       "Netherlands                10.0  \n",
       "Czechia                    15.0  \n",
       "Belgium                    19.0  \n",
       "Latvia                      7.0  \n",
       "Cyprus                     13.0  \n",
       "Malta                       6.0  \n",
       "Slovak Republic            14.0  \n",
       "Italy                       8.0  \n",
       "Lithuania                  11.0  \n",
       "Croatia                     9.0  \n",
       "Poland                      4.0  \n",
       "Bulgaria                    2.0  \n",
       "Hungary                     5.0  \n",
       "Greece                      3.0  \n",
       "Romania                     1.0  "
      ]
     },
     "execution_count": 72,
     "metadata": {},
     "output_type": "execute_result"
    }
   ],
   "source": [
    "ranked_df.sort_values(by=score, ascending=False, inplace=True)\n",
    "ranked_df"
   ]
  },
  {
   "cell_type": "code",
   "execution_count": 76,
   "metadata": {},
   "outputs": [
    {
     "data": {
      "text/plain": [
       "['Estonia',\n",
       " 'Slovenia',\n",
       " 'Ireland',\n",
       " 'Austria',\n",
       " 'Finland',\n",
       " 'Portugal',\n",
       " 'Sweden',\n",
       " 'Spain',\n",
       " 'Luxembourg',\n",
       " 'Germany',\n",
       " 'Benchmark',\n",
       " 'France',\n",
       " 'Denmark',\n",
       " 'Netherlands',\n",
       " 'Czechia',\n",
       " 'Belgium',\n",
       " 'Latvia',\n",
       " 'Cyprus',\n",
       " 'Malta',\n",
       " 'Slovak Republic',\n",
       " 'Italy',\n",
       " 'Lithuania',\n",
       " 'Croatia',\n",
       " 'Poland',\n",
       " 'Bulgaria',\n",
       " 'Hungary',\n",
       " 'Greece',\n",
       " 'Romania']"
      ]
     },
     "execution_count": 76,
     "metadata": {},
     "output_type": "execute_result"
    }
   ],
   "source": [
    "ranked_df.index.tolist().index('Benchmark')"
   ]
  },
  {
   "cell_type": "code",
   "execution_count": 85,
   "metadata": {},
   "outputs": [
    {
     "data": {
      "application/vnd.plotly.v1+json": {
       "config": {
        "plotlyServerURL": "https://plot.ly"
       },
       "data": [
        {
         "alignmentgroup": "True",
         "hovertemplate": "Country=%{x}<br>additive=%{marker.color}<extra></extra>",
         "legendgroup": "",
         "marker": {
          "color": [
           28,
           27,
           26,
           25,
           24,
           23,
           22,
           21,
           20,
           19,
           18,
           17,
           16,
           15,
           14,
           13,
           12,
           11,
           10,
           9,
           8,
           7,
           6,
           5,
           4,
           3,
           2,
           1
          ],
          "pattern": {
           "shape": ""
          }
         },
         "name": "",
         "offsetgroup": "",
         "orientation": "v",
         "showlegend": false,
         "textposition": "auto",
         "type": "bar",
         "x": [
          "Estonia",
          "Slovenia",
          "Ireland",
          "Austria",
          "Finland",
          "Portugal",
          "Sweden",
          "Spain",
          "Luxembourg",
          "Germany",
          "Benchmark",
          "France",
          "Denmark",
          "Netherlands",
          "Czechia",
          "Belgium",
          "Latvia",
          "Cyprus",
          "Malta",
          "Slovak Republic",
          "Italy",
          "Lithuania",
          "Croatia",
          "Poland",
          "Bulgaria",
          "Hungary",
          "Greece",
          "Romania"
         ],
         "xaxis": "x",
         "y": [
          28,
          27,
          26,
          25,
          24,
          23,
          22,
          21,
          20,
          19,
          18,
          17,
          16,
          15,
          14,
          13,
          12,
          11,
          10,
          9,
          8,
          7,
          6,
          5,
          4,
          3,
          2,
          1
         ],
         "yaxis": "y"
        }
       ],
       "layout": {
        "barmode": "relative",
        "coloraxis": {
         "colorbar": {
          "title": {
           "text": "additive"
          }
         },
         "colorscale": [
          [
           0,
           "#0d0887"
          ],
          [
           0.1111111111111111,
           "#46039f"
          ],
          [
           0.2222222222222222,
           "#7201a8"
          ],
          [
           0.3333333333333333,
           "#9c179e"
          ],
          [
           0.4444444444444444,
           "#bd3786"
          ],
          [
           0.5555555555555556,
           "#d8576b"
          ],
          [
           0.6666666666666666,
           "#ed7953"
          ],
          [
           0.7777777777777778,
           "#fb9f3a"
          ],
          [
           0.8888888888888888,
           "#fdca26"
          ],
          [
           1,
           "#f0f921"
          ]
         ]
        },
        "legend": {
         "tracegroupgap": 0
        },
        "margin": {
         "t": 60
        },
        "paper_bgcolor": "rgba (0,0,0,0)",
        "plot_bgcolor": "rgba (0,0,0,0)",
        "shapes": [
         {
          "line": {
           "color": "green",
           "dash": "dash",
           "width": 3
          },
          "type": "line",
          "x0": 10,
          "x1": 10,
          "xref": "x",
          "y0": 0,
          "y1": 1,
          "yref": "y domain"
         }
        ],
        "template": {
         "data": {
          "bar": [
           {
            "error_x": {
             "color": "#2a3f5f"
            },
            "error_y": {
             "color": "#2a3f5f"
            },
            "marker": {
             "line": {
              "color": "#E5ECF6",
              "width": 0.5
             },
             "pattern": {
              "fillmode": "overlay",
              "size": 10,
              "solidity": 0.2
             }
            },
            "type": "bar"
           }
          ],
          "barpolar": [
           {
            "marker": {
             "line": {
              "color": "#E5ECF6",
              "width": 0.5
             },
             "pattern": {
              "fillmode": "overlay",
              "size": 10,
              "solidity": 0.2
             }
            },
            "type": "barpolar"
           }
          ],
          "carpet": [
           {
            "aaxis": {
             "endlinecolor": "#2a3f5f",
             "gridcolor": "white",
             "linecolor": "white",
             "minorgridcolor": "white",
             "startlinecolor": "#2a3f5f"
            },
            "baxis": {
             "endlinecolor": "#2a3f5f",
             "gridcolor": "white",
             "linecolor": "white",
             "minorgridcolor": "white",
             "startlinecolor": "#2a3f5f"
            },
            "type": "carpet"
           }
          ],
          "choropleth": [
           {
            "colorbar": {
             "outlinewidth": 0,
             "ticks": ""
            },
            "type": "choropleth"
           }
          ],
          "contour": [
           {
            "colorbar": {
             "outlinewidth": 0,
             "ticks": ""
            },
            "colorscale": [
             [
              0,
              "#0d0887"
             ],
             [
              0.1111111111111111,
              "#46039f"
             ],
             [
              0.2222222222222222,
              "#7201a8"
             ],
             [
              0.3333333333333333,
              "#9c179e"
             ],
             [
              0.4444444444444444,
              "#bd3786"
             ],
             [
              0.5555555555555556,
              "#d8576b"
             ],
             [
              0.6666666666666666,
              "#ed7953"
             ],
             [
              0.7777777777777778,
              "#fb9f3a"
             ],
             [
              0.8888888888888888,
              "#fdca26"
             ],
             [
              1,
              "#f0f921"
             ]
            ],
            "type": "contour"
           }
          ],
          "contourcarpet": [
           {
            "colorbar": {
             "outlinewidth": 0,
             "ticks": ""
            },
            "type": "contourcarpet"
           }
          ],
          "heatmap": [
           {
            "colorbar": {
             "outlinewidth": 0,
             "ticks": ""
            },
            "colorscale": [
             [
              0,
              "#0d0887"
             ],
             [
              0.1111111111111111,
              "#46039f"
             ],
             [
              0.2222222222222222,
              "#7201a8"
             ],
             [
              0.3333333333333333,
              "#9c179e"
             ],
             [
              0.4444444444444444,
              "#bd3786"
             ],
             [
              0.5555555555555556,
              "#d8576b"
             ],
             [
              0.6666666666666666,
              "#ed7953"
             ],
             [
              0.7777777777777778,
              "#fb9f3a"
             ],
             [
              0.8888888888888888,
              "#fdca26"
             ],
             [
              1,
              "#f0f921"
             ]
            ],
            "type": "heatmap"
           }
          ],
          "heatmapgl": [
           {
            "colorbar": {
             "outlinewidth": 0,
             "ticks": ""
            },
            "colorscale": [
             [
              0,
              "#0d0887"
             ],
             [
              0.1111111111111111,
              "#46039f"
             ],
             [
              0.2222222222222222,
              "#7201a8"
             ],
             [
              0.3333333333333333,
              "#9c179e"
             ],
             [
              0.4444444444444444,
              "#bd3786"
             ],
             [
              0.5555555555555556,
              "#d8576b"
             ],
             [
              0.6666666666666666,
              "#ed7953"
             ],
             [
              0.7777777777777778,
              "#fb9f3a"
             ],
             [
              0.8888888888888888,
              "#fdca26"
             ],
             [
              1,
              "#f0f921"
             ]
            ],
            "type": "heatmapgl"
           }
          ],
          "histogram": [
           {
            "marker": {
             "pattern": {
              "fillmode": "overlay",
              "size": 10,
              "solidity": 0.2
             }
            },
            "type": "histogram"
           }
          ],
          "histogram2d": [
           {
            "colorbar": {
             "outlinewidth": 0,
             "ticks": ""
            },
            "colorscale": [
             [
              0,
              "#0d0887"
             ],
             [
              0.1111111111111111,
              "#46039f"
             ],
             [
              0.2222222222222222,
              "#7201a8"
             ],
             [
              0.3333333333333333,
              "#9c179e"
             ],
             [
              0.4444444444444444,
              "#bd3786"
             ],
             [
              0.5555555555555556,
              "#d8576b"
             ],
             [
              0.6666666666666666,
              "#ed7953"
             ],
             [
              0.7777777777777778,
              "#fb9f3a"
             ],
             [
              0.8888888888888888,
              "#fdca26"
             ],
             [
              1,
              "#f0f921"
             ]
            ],
            "type": "histogram2d"
           }
          ],
          "histogram2dcontour": [
           {
            "colorbar": {
             "outlinewidth": 0,
             "ticks": ""
            },
            "colorscale": [
             [
              0,
              "#0d0887"
             ],
             [
              0.1111111111111111,
              "#46039f"
             ],
             [
              0.2222222222222222,
              "#7201a8"
             ],
             [
              0.3333333333333333,
              "#9c179e"
             ],
             [
              0.4444444444444444,
              "#bd3786"
             ],
             [
              0.5555555555555556,
              "#d8576b"
             ],
             [
              0.6666666666666666,
              "#ed7953"
             ],
             [
              0.7777777777777778,
              "#fb9f3a"
             ],
             [
              0.8888888888888888,
              "#fdca26"
             ],
             [
              1,
              "#f0f921"
             ]
            ],
            "type": "histogram2dcontour"
           }
          ],
          "mesh3d": [
           {
            "colorbar": {
             "outlinewidth": 0,
             "ticks": ""
            },
            "type": "mesh3d"
           }
          ],
          "parcoords": [
           {
            "line": {
             "colorbar": {
              "outlinewidth": 0,
              "ticks": ""
             }
            },
            "type": "parcoords"
           }
          ],
          "pie": [
           {
            "automargin": true,
            "type": "pie"
           }
          ],
          "scatter": [
           {
            "fillpattern": {
             "fillmode": "overlay",
             "size": 10,
             "solidity": 0.2
            },
            "type": "scatter"
           }
          ],
          "scatter3d": [
           {
            "line": {
             "colorbar": {
              "outlinewidth": 0,
              "ticks": ""
             }
            },
            "marker": {
             "colorbar": {
              "outlinewidth": 0,
              "ticks": ""
             }
            },
            "type": "scatter3d"
           }
          ],
          "scattercarpet": [
           {
            "marker": {
             "colorbar": {
              "outlinewidth": 0,
              "ticks": ""
             }
            },
            "type": "scattercarpet"
           }
          ],
          "scattergeo": [
           {
            "marker": {
             "colorbar": {
              "outlinewidth": 0,
              "ticks": ""
             }
            },
            "type": "scattergeo"
           }
          ],
          "scattergl": [
           {
            "marker": {
             "colorbar": {
              "outlinewidth": 0,
              "ticks": ""
             }
            },
            "type": "scattergl"
           }
          ],
          "scattermapbox": [
           {
            "marker": {
             "colorbar": {
              "outlinewidth": 0,
              "ticks": ""
             }
            },
            "type": "scattermapbox"
           }
          ],
          "scatterpolar": [
           {
            "marker": {
             "colorbar": {
              "outlinewidth": 0,
              "ticks": ""
             }
            },
            "type": "scatterpolar"
           }
          ],
          "scatterpolargl": [
           {
            "marker": {
             "colorbar": {
              "outlinewidth": 0,
              "ticks": ""
             }
            },
            "type": "scatterpolargl"
           }
          ],
          "scatterternary": [
           {
            "marker": {
             "colorbar": {
              "outlinewidth": 0,
              "ticks": ""
             }
            },
            "type": "scatterternary"
           }
          ],
          "surface": [
           {
            "colorbar": {
             "outlinewidth": 0,
             "ticks": ""
            },
            "colorscale": [
             [
              0,
              "#0d0887"
             ],
             [
              0.1111111111111111,
              "#46039f"
             ],
             [
              0.2222222222222222,
              "#7201a8"
             ],
             [
              0.3333333333333333,
              "#9c179e"
             ],
             [
              0.4444444444444444,
              "#bd3786"
             ],
             [
              0.5555555555555556,
              "#d8576b"
             ],
             [
              0.6666666666666666,
              "#ed7953"
             ],
             [
              0.7777777777777778,
              "#fb9f3a"
             ],
             [
              0.8888888888888888,
              "#fdca26"
             ],
             [
              1,
              "#f0f921"
             ]
            ],
            "type": "surface"
           }
          ],
          "table": [
           {
            "cells": {
             "fill": {
              "color": "#EBF0F8"
             },
             "line": {
              "color": "white"
             }
            },
            "header": {
             "fill": {
              "color": "#C8D4E3"
             },
             "line": {
              "color": "white"
             }
            },
            "type": "table"
           }
          ]
         },
         "layout": {
          "annotationdefaults": {
           "arrowcolor": "#2a3f5f",
           "arrowhead": 0,
           "arrowwidth": 1
          },
          "autotypenumbers": "strict",
          "coloraxis": {
           "colorbar": {
            "outlinewidth": 0,
            "ticks": ""
           }
          },
          "colorscale": {
           "diverging": [
            [
             0,
             "#8e0152"
            ],
            [
             0.1,
             "#c51b7d"
            ],
            [
             0.2,
             "#de77ae"
            ],
            [
             0.3,
             "#f1b6da"
            ],
            [
             0.4,
             "#fde0ef"
            ],
            [
             0.5,
             "#f7f7f7"
            ],
            [
             0.6,
             "#e6f5d0"
            ],
            [
             0.7,
             "#b8e186"
            ],
            [
             0.8,
             "#7fbc41"
            ],
            [
             0.9,
             "#4d9221"
            ],
            [
             1,
             "#276419"
            ]
           ],
           "sequential": [
            [
             0,
             "#0d0887"
            ],
            [
             0.1111111111111111,
             "#46039f"
            ],
            [
             0.2222222222222222,
             "#7201a8"
            ],
            [
             0.3333333333333333,
             "#9c179e"
            ],
            [
             0.4444444444444444,
             "#bd3786"
            ],
            [
             0.5555555555555556,
             "#d8576b"
            ],
            [
             0.6666666666666666,
             "#ed7953"
            ],
            [
             0.7777777777777778,
             "#fb9f3a"
            ],
            [
             0.8888888888888888,
             "#fdca26"
            ],
            [
             1,
             "#f0f921"
            ]
           ],
           "sequentialminus": [
            [
             0,
             "#0d0887"
            ],
            [
             0.1111111111111111,
             "#46039f"
            ],
            [
             0.2222222222222222,
             "#7201a8"
            ],
            [
             0.3333333333333333,
             "#9c179e"
            ],
            [
             0.4444444444444444,
             "#bd3786"
            ],
            [
             0.5555555555555556,
             "#d8576b"
            ],
            [
             0.6666666666666666,
             "#ed7953"
            ],
            [
             0.7777777777777778,
             "#fb9f3a"
            ],
            [
             0.8888888888888888,
             "#fdca26"
            ],
            [
             1,
             "#f0f921"
            ]
           ]
          },
          "colorway": [
           "#636efa",
           "#EF553B",
           "#00cc96",
           "#ab63fa",
           "#FFA15A",
           "#19d3f3",
           "#FF6692",
           "#B6E880",
           "#FF97FF",
           "#FECB52"
          ],
          "font": {
           "color": "#2a3f5f"
          },
          "geo": {
           "bgcolor": "white",
           "lakecolor": "white",
           "landcolor": "#E5ECF6",
           "showlakes": true,
           "showland": true,
           "subunitcolor": "white"
          },
          "hoverlabel": {
           "align": "left"
          },
          "hovermode": "closest",
          "mapbox": {
           "style": "light"
          },
          "paper_bgcolor": "white",
          "plot_bgcolor": "#E5ECF6",
          "polar": {
           "angularaxis": {
            "gridcolor": "white",
            "linecolor": "white",
            "ticks": ""
           },
           "bgcolor": "#E5ECF6",
           "radialaxis": {
            "gridcolor": "white",
            "linecolor": "white",
            "ticks": ""
           }
          },
          "scene": {
           "xaxis": {
            "backgroundcolor": "#E5ECF6",
            "gridcolor": "white",
            "gridwidth": 2,
            "linecolor": "white",
            "showbackground": true,
            "ticks": "",
            "zerolinecolor": "white"
           },
           "yaxis": {
            "backgroundcolor": "#E5ECF6",
            "gridcolor": "white",
            "gridwidth": 2,
            "linecolor": "white",
            "showbackground": true,
            "ticks": "",
            "zerolinecolor": "white"
           },
           "zaxis": {
            "backgroundcolor": "#E5ECF6",
            "gridcolor": "white",
            "gridwidth": 2,
            "linecolor": "white",
            "showbackground": true,
            "ticks": "",
            "zerolinecolor": "white"
           }
          },
          "shapedefaults": {
           "line": {
            "color": "#2a3f5f"
           }
          },
          "ternary": {
           "aaxis": {
            "gridcolor": "white",
            "linecolor": "white",
            "ticks": ""
           },
           "baxis": {
            "gridcolor": "white",
            "linecolor": "white",
            "ticks": ""
           },
           "bgcolor": "#E5ECF6",
           "caxis": {
            "gridcolor": "white",
            "linecolor": "white",
            "ticks": ""
           }
          },
          "title": {
           "x": 0.05
          },
          "xaxis": {
           "automargin": true,
           "gridcolor": "white",
           "linecolor": "white",
           "ticks": "",
           "title": {
            "standoff": 15
           },
           "zerolinecolor": "white",
           "zerolinewidth": 2
          },
          "yaxis": {
           "automargin": true,
           "gridcolor": "white",
           "linecolor": "white",
           "ticks": "",
           "title": {
            "standoff": 15
           },
           "zerolinecolor": "white",
           "zerolinewidth": 2
          }
         }
        },
        "xaxis": {
         "anchor": "y",
         "domain": [
          0,
          1
         ],
         "title": {
          "text": "Country"
         }
        },
        "yaxis": {
         "anchor": "x",
         "domain": [
          0,
          1
         ],
         "title": {
          "text": "additive"
         }
        }
       }
      }
     },
     "metadata": {},
     "output_type": "display_data"
    }
   ],
   "source": [
    "fig = px.bar(ranked_df.reset_index(drop=False), x=ranked_df.index.name, y=score, color=score)\n",
    "\n",
    "fig.add_vline(ranked_df.index.tolist().index('Benchmark'), line_width = 3, line_dash = 'dash', line_color='green')\n",
    "\n",
    "fig.update_layout(paper_bgcolor = 'rgba (0,0,0,0)', plot_bgcolor='rgba (0,0,0,0)')\n",
    "\n",
    "fig.update_traces(marker_coloraxis = None)\n",
    "\n",
    "fig.show()"
   ]
  }
 ],
 "metadata": {
  "kernelspec": {
   "display_name": "Python 3.7.3 64-bit",
   "language": "python",
   "name": "python3"
  },
  "language_info": {
   "codemirror_mode": {
    "name": "ipython",
    "version": 3
   },
   "file_extension": ".py",
   "mimetype": "text/x-python",
   "name": "python",
   "nbconvert_exporter": "python",
   "pygments_lexer": "ipython3",
   "version": "3.7.3"
  },
  "orig_nbformat": 4,
  "vscode": {
   "interpreter": {
    "hash": "31f2aee4e71d21fbe5cf8b01ff0e069b9275f58929596ceb00d14d90e3e16cd6"
   }
  }
 },
 "nbformat": 4,
 "nbformat_minor": 2
}
